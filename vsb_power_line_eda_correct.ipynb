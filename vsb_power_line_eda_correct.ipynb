{
  "nbformat": 4,
  "nbformat_minor": 0,
  "metadata": {
    "colab": {
      "name": "vsb_power_line_eda_correct.ipynb",
      "version": "0.3.2",
      "provenance": [],
      "collapsed_sections": [],
      "include_colab_link": true
    },
    "kernelspec": {
      "name": "python3",
      "display_name": "Python 3"
    },
    "accelerator": "GPU"
  },
  "cells": [
    {
      "cell_type": "markdown",
      "metadata": {
        "id": "view-in-github",
        "colab_type": "text"
      },
      "source": [
        "<a href=\"https://colab.research.google.com/github/tcglarry/kg_power_line/blob/master/vsb_power_line_eda_correct.ipynb\" target=\"_parent\"><img src=\"https://colab.research.google.com/assets/colab-badge.svg\" alt=\"Open In Colab\"/></a>"
      ]
    },
    {
      "metadata": {
        "id": "enId4cCOhTD8",
        "colab_type": "code",
        "outputId": "43fd270e-9877-4e41-e5ec-ab7c121788a4",
        "colab": {
          "base_uri": "https://localhost:8080/",
          "height": 34
        }
      },
      "cell_type": "code",
      "source": [
        "\n",
        "# Step 1\n",
        "# Install a Drive FUSE wrapper.\n",
        "# https://github.com/astrada/google-drive-ocamlfuse\n",
        "!apt-get install -y -qq software-properties-common python-software-properties module-init-tools\n",
        "!add-apt-repository -y ppa:alessandro-strada/ppa 2>&1 > /dev/null\n",
        "!apt-get update -qq 2>&1 > /dev/null\n",
        "!apt-get -y install -qq google-drive-ocamlfuse fuse\n"
      ],
      "execution_count": 2,
      "outputs": [
        {
          "output_type": "stream",
          "text": [
            "E: Package 'python-software-properties' has no installation candidate\n"
          ],
          "name": "stdout"
        }
      ]
    },
    {
      "metadata": {
        "id": "oTRpJF2h05N9",
        "colab_type": "code",
        "outputId": "8315f8c1-62e7-4a8a-8f01-04df87515aa5",
        "colab": {
          "base_uri": "https://localhost:8080/",
          "height": 34
        }
      },
      "cell_type": "code",
      "source": [
        "\n",
        "# Step 2\n",
        "from google.colab import drive\n",
        "drive.mount('/content/drive')\n"
      ],
      "execution_count": 3,
      "outputs": [
        {
          "output_type": "stream",
          "text": [
            "Drive already mounted at /content/drive; to attempt to forcibly remount, call drive.mount(\"/content/drive\", force_remount=True).\n"
          ],
          "name": "stdout"
        }
      ]
    },
    {
      "metadata": {
        "id": "6VHnjsvDh3Hq",
        "colab_type": "code",
        "outputId": "220cf86c-5d0b-48f1-a1e8-2e2ce2c95ce3",
        "colab": {
          "base_uri": "https://localhost:8080/",
          "height": 70
        }
      },
      "cell_type": "code",
      "source": [
        "!pip install pyarrow"
      ],
      "execution_count": 8,
      "outputs": [
        {
          "output_type": "stream",
          "text": [
            "Requirement already satisfied: pyarrow in /usr/local/lib/python3.6/dist-packages (0.11.1)\n",
            "Requirement already satisfied: numpy>=1.14 in /usr/local/lib/python3.6/dist-packages (from pyarrow) (1.14.6)\n",
            "Requirement already satisfied: six>=1.0.0 in /usr/local/lib/python3.6/dist-packages (from pyarrow) (1.11.0)\n"
          ],
          "name": "stdout"
        }
      ]
    },
    {
      "metadata": {
        "id": "ia3JGqB8owx-",
        "colab_type": "code",
        "colab": {}
      },
      "cell_type": "code",
      "source": [
        "!sudo chmod 444 'drive/My Drive/kaggle/vsb_power_line/data/train.parquet'"
      ],
      "execution_count": 0,
      "outputs": []
    },
    {
      "metadata": {
        "id": "XSpjfji1h7UZ",
        "colab_type": "code",
        "colab": {}
      },
      "cell_type": "code",
      "source": [
        "!cp 'drive/My Drive/kaggle/vsb_power_line/data/train.parquet' ."
      ],
      "execution_count": 0,
      "outputs": []
    },
    {
      "metadata": {
        "id": "SaK2qK2N1o1g",
        "colab_type": "code",
        "colab": {}
      },
      "cell_type": "code",
      "source": [
        "import numpy as np\n",
        "import matplotlib.pyplot as plt\n",
        "import pandas as pd\n",
        "import pyarrow.parquet as pq\n",
        "import matplotlib as mpl\n",
        "mpl.style.use('default')\n",
        "from PIL import Image\n",
        "import seaborn as sns\n",
        "%matplotlib inline"
      ],
      "execution_count": 0,
      "outputs": []
    },
    {
      "metadata": {
        "id": "XNvNMv-ll6bl",
        "colab_type": "code",
        "colab": {}
      },
      "cell_type": "code",
      "source": [
        "src= 'drive/My Drive/kaggle/vsb_power_line/data/'\n",
        "src_train_idx_1 = 'drive/My Drive/kaggle/vsb_power_line/data/train_test_data/train/1/'\n",
        "src_train_idx_0 = 'drive/My Drive/kaggle/vsb_power_line/data/train_test_data/train/0/'\n",
        "src_valid_idx_1 = 'drive/My Drive/kaggle/vsb_power_line/data/train_test_data/validation/1/'\n",
        "src_valid_idx_0 = 'drive/My Drive/kaggle/vsb_power_line/data/train_test_data/validation/0/'"
      ],
      "execution_count": 0,
      "outputs": []
    },
    {
      "metadata": {
        "id": "G0OPkX1PKZ5R",
        "colab_type": "code",
        "colab": {}
      },
      "cell_type": "code",
      "source": [
        "#!rm 'drive/My Drive/kaggle/vsb_power_line/data/train_test_data/validation/1/'*"
      ],
      "execution_count": 0,
      "outputs": []
    },
    {
      "metadata": {
        "id": "ENQvYbZc6afs",
        "colab_type": "code",
        "colab": {}
      },
      "cell_type": "code",
      "source": [
        ""
      ],
      "execution_count": 0,
      "outputs": []
    },
    {
      "metadata": {
        "id": "qXVYWJlR5ayo",
        "colab_type": "code",
        "colab": {
          "base_uri": "https://localhost:8080/",
          "height": 34
        },
        "outputId": "ce9388d2-0d68-4621-d5e6-05b4f20d7923"
      },
      "cell_type": "code",
      "source": [
        "import os\n",
        "os.listdir('drive/My Drive/kaggle/vsb_power_line/data/train_test_data/train/')"
      ],
      "execution_count": 11,
      "outputs": [
        {
          "output_type": "execute_result",
          "data": {
            "text/plain": [
              "['0', '1']"
            ]
          },
          "metadata": {
            "tags": []
          },
          "execution_count": 11
        }
      ]
    },
    {
      "metadata": {
        "id": "4hWAEM_Riea0",
        "colab_type": "code",
        "colab": {
          "base_uri": "https://localhost:8080/",
          "height": 87
        },
        "outputId": "47477696-c5a5-48d4-d2a1-c36d7c126a55"
      },
      "cell_type": "code",
      "source": [
        "train_df = pd.read_csv(src+'metadata_train.csv')\n",
        "print (train_df.shape)\n",
        "train_df['target'].value_counts()"
      ],
      "execution_count": 12,
      "outputs": [
        {
          "output_type": "stream",
          "text": [
            "(8712, 4)\n"
          ],
          "name": "stdout"
        },
        {
          "output_type": "execute_result",
          "data": {
            "text/plain": [
              "0    8187\n",
              "1     525\n",
              "Name: target, dtype: int64"
            ]
          },
          "metadata": {
            "tags": []
          },
          "execution_count": 12
        }
      ]
    },
    {
      "metadata": {
        "id": "nxCqR92HmYPZ",
        "colab_type": "code",
        "colab": {
          "base_uri": "https://localhost:8080/",
          "height": 34
        },
        "outputId": "7faf60b3-b74f-408a-c5a3-8dce3ff4c4f7"
      },
      "cell_type": "code",
      "source": [
        "idx_1 = train_df.loc[train_df['target']==1,'signal_id'].tolist()\n",
        "idx_0 = train_df.loc[train_df['target']==0,'signal_id'].tolist()\n",
        "\n",
        "print (len(idx_1)+len(idx_0))"
      ],
      "execution_count": 13,
      "outputs": [
        {
          "output_type": "stream",
          "text": [
            "8712\n"
          ],
          "name": "stdout"
        }
      ]
    },
    {
      "metadata": {
        "id": "ac_5DRIWr7pk",
        "colab_type": "code",
        "colab": {
          "base_uri": "https://localhost:8080/",
          "height": 34
        },
        "outputId": "e2058479-6ed4-4d75-e2a1-671846c93ad6"
      },
      "cell_type": "code",
      "source": [
        "test_ratio = 0.2\n",
        "valid_size_1 = int(525*test_ratio)\n",
        "valid_size_0 = int(8187 * test_ratio)\n",
        "\n",
        "print (valid_size_1, valid_size_0)"
      ],
      "execution_count": 14,
      "outputs": [
        {
          "output_type": "stream",
          "text": [
            "105 1637\n"
          ],
          "name": "stdout"
        }
      ]
    },
    {
      "metadata": {
        "id": "gRtwHnclsoQj",
        "colab_type": "code",
        "colab": {
          "base_uri": "https://localhost:8080/",
          "height": 34
        },
        "outputId": "add52a77-e768-4bd9-b92d-da9e7f9e4345"
      },
      "cell_type": "code",
      "source": [
        "valid_idx_1 = np.random.choice(idx_1, size= valid_size_1,replace=False)\n",
        "train_idx_1 = [i for i in idx_1 if i not in valid_idx_1]\n",
        "\n",
        "valid_idx_0 = np.random.choice(idx_0, size= valid_size_0,replace=False)\n",
        "train_idx_0 = [i for i in idx_0 if i not in valid_idx_0]\n",
        "\n",
        "print (len(valid_idx_1), len(train_idx_1) , len(valid_idx_0), len(train_idx_0))"
      ],
      "execution_count": 15,
      "outputs": [
        {
          "output_type": "stream",
          "text": [
            "105 420 1637 6550\n"
          ],
          "name": "stdout"
        }
      ]
    },
    {
      "metadata": {
        "id": "He2_pBU-uFra",
        "colab_type": "code",
        "colab": {}
      },
      "cell_type": "code",
      "source": [
        "def save_file_to(i):\n",
        "  if i in train_idx_1:\n",
        "    save_to = src_train_idx_1\n",
        "  elif i in train_idx_0:\n",
        "    save_to = src_train_idx_0\n",
        "  \n",
        "  elif i in valid_idx_1:\n",
        "    save_to = src_valid_idx_1\n",
        "\n",
        "  elif i in valid_idx_0:\n",
        "    save_to = src_valid_idx_0\n",
        "    \n",
        "  else:\n",
        "    print (f'i = {i},   something wrong')\n",
        "    \n",
        "  return save_to "
      ],
      "execution_count": 0,
      "outputs": []
    },
    {
      "metadata": {
        "id": "leeniSj21m5e",
        "colab_type": "code",
        "colab": {}
      },
      "cell_type": "code",
      "source": [
        "\n",
        "\n",
        "\n",
        "def sample(signal, kernel_size):\n",
        "  sampled = np.zeros((signal.shape[0],  signal.shape[1]//kernel_size))\n",
        "  print ('sampledshape',sampled.shape)\n",
        "  for i in range(signal.shape[1]//kernel_size):\n",
        "    begin = kernel_size * i\n",
        "    #print (f'begin = {begin}')\n",
        "    end = min(kernel_size * (i + 1), signal.shape[1])\n",
        "    #print (f'end = {end}')\n",
        "    sampled[:,  i] = np.mean(signal[:,  begin:end], axis=1)\n",
        "    #print (f'from begin {begin } to end {end} mean value {sampled[:, :, i] } selected ')\n",
        "  return sampled\n"
      ],
      "execution_count": 0,
      "outputs": []
    },
    {
      "metadata": {
        "id": "4snpK6Ui1nEW",
        "colab_type": "code",
        "colab": {}
      },
      "cell_type": "code",
      "source": [
        "\n",
        "def signals_to_img(fname,window=100):\n",
        "\n",
        "  #plt.imshow(FNAME)\n",
        "  #plt.show()\n",
        "  img = Image.open(fname).convert('RGB')\n",
        "  #print (img.size)\n",
        "  #img = img.resize((750,500))\n",
        "  x = np.array(img)\n",
        "  #print (x.shape)\n",
        "\n",
        "  img.save(fname)\n"
      ],
      "execution_count": 0,
      "outputs": []
    },
    {
      "metadata": {
        "id": "lUj2mWEj1nM6",
        "colab_type": "code",
        "colab": {}
      },
      "cell_type": "code",
      "source": [
        "\n",
        "def make_fig(j,sampled):\n",
        "\n",
        "  length = sampled.shape[0]\n",
        "\n",
        "\n",
        "  for i in range(length):\n",
        "    \n",
        "    idx = i+j*484\n",
        "    save_to = save_file_to(idx)\n",
        "\n",
        "\n",
        "    fig = plt.figure(figsize=(8, 4))\n",
        "    \n",
        "\n",
        "\n",
        "    plt.xticks([])\n",
        "    plt.yticks([])\n",
        "    \n",
        "    sns.despine(bottom=True, left=True)\n",
        "    plt.plot(sampled[i, :],color='r')\n",
        "    #plt.plot(sampled[i*11, :], label='Phase 1')\n",
        "    #plt.plot(sampled[i*11, :], label='Phase 2')\n",
        "    #plt.legend()\n",
        "    #print ('j=', j, 'i=',i, 'save_to =', save_to)\n",
        "    fname = save_to+'signal_img_'+str(i+j*484)+'.png'\n",
        "    plt.savefig(fname, format='png')\n",
        "    plt.close(fig)\n",
        "    signals_to_img(fname)\n",
        "    fig.clf()\n",
        "\n",
        "    #plt.despine(left=True,bottom=True)\n",
        "    #plt.show()"
      ],
      "execution_count": 0,
      "outputs": []
    },
    {
      "metadata": {
        "id": "D7A5NUInh2II",
        "colab_type": "code",
        "outputId": "1f195e49-e29e-4fd6-bd80-e27433091f4b",
        "colab": {
          "base_uri": "https://localhost:8080/",
          "height": 354
        }
      },
      "cell_type": "code",
      "source": [
        "\n",
        "#train_df = pq.read_pandas('train.parquet').to_pandas()\n",
        "\n",
        "for j in range(10,18,1):\n",
        "  \n",
        "  subset_train = pq.read_pandas('train.parquet', columns=[str(i+j*484) for i in range(484)]).to_pandas()\n",
        "  subset_value = np.array(subset_train.values).T\n",
        "  print (subset_value.shape)\n",
        "  sampled = sample(subset_value,100)\n",
        " \n",
        "  make_fig(j,sampled)\n",
        "  if j % 3 == 0:\n",
        "    \n",
        "    print (f'batch {j} /18 ok ')\n",
        "  \n",
        "print ('total complted')"
      ],
      "execution_count": 50,
      "outputs": [
        {
          "output_type": "stream",
          "text": [
            "(484, 800000)\n",
            "sampledshape (484, 8000)\n",
            "(484, 800000)\n",
            "sampledshape (484, 8000)\n",
            "(484, 800000)\n",
            "sampledshape (484, 8000)\n",
            "batch 12 /18 ok \n",
            "(484, 800000)\n",
            "sampledshape (484, 8000)\n",
            "(484, 800000)\n",
            "sampledshape (484, 8000)\n",
            "(484, 800000)\n",
            "sampledshape (484, 8000)\n",
            "batch 15 /18 ok \n",
            "(484, 800000)\n",
            "sampledshape (484, 8000)\n",
            "(484, 800000)\n",
            "sampledshape (484, 8000)\n",
            "total complted\n"
          ],
          "name": "stdout"
        }
      ]
    },
    {
      "metadata": {
        "id": "Zn1KRAjMmEky",
        "colab_type": "code",
        "colab": {
          "base_uri": "https://localhost:8080/",
          "height": 34
        },
        "outputId": "363c5753-751e-4276-a2f4-0ab92de9d2f0"
      },
      "cell_type": "code",
      "source": [
        "import os\n",
        "len( os.listdir(src_train_idx_1)) + len( os.listdir(src_valid_idx_1))\n"
      ],
      "execution_count": 53,
      "outputs": [
        {
          "output_type": "execute_result",
          "data": {
            "text/plain": [
              "525"
            ]
          },
          "metadata": {
            "tags": []
          },
          "execution_count": 53
        }
      ]
    },
    {
      "metadata": {
        "id": "xaro_mF9LGAB",
        "colab_type": "code",
        "colab": {
          "base_uri": "https://localhost:8080/",
          "height": 34
        },
        "outputId": "6e69c41c-3c2d-43bf-e77f-a85bd1aaf6a6"
      },
      "cell_type": "code",
      "source": [
        "len( os.listdir(src_train_idx_0)) + len( os.listdir(src_valid_idx_0))\n"
      ],
      "execution_count": 54,
      "outputs": [
        {
          "output_type": "execute_result",
          "data": {
            "text/plain": [
              "8187"
            ]
          },
          "metadata": {
            "tags": []
          },
          "execution_count": 54
        }
      ]
    },
    {
      "metadata": {
        "id": "iMfRqhYOtELI",
        "colab_type": "code",
        "colab": {}
      },
      "cell_type": "code",
      "source": [
        ""
      ],
      "execution_count": 0,
      "outputs": []
    }
  ]
}