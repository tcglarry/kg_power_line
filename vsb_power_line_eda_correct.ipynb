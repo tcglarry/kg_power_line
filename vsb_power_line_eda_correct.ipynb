{
  "nbformat": 4,
  "nbformat_minor": 0,
  "metadata": {
    "colab": {
      "name": "vsb_power_line_eda_correct.ipynb",
      "version": "0.3.2",
      "provenance": [],
      "collapsed_sections": [],
      "include_colab_link": true
    },
    "kernelspec": {
      "name": "python3",
      "display_name": "Python 3"
    },
    "accelerator": "GPU"
  },
  "cells": [
    {
      "cell_type": "markdown",
      "metadata": {
        "id": "view-in-github",
        "colab_type": "text"
      },
      "source": [
        "<a href=\"https://colab.research.google.com/github/tcglarry/kg_power_line/blob/master/vsb_power_line_eda_correct.ipynb\" target=\"_parent\"><img src=\"https://colab.research.google.com/assets/colab-badge.svg\" alt=\"Open In Colab\"/></a>"
      ]
    },
    {
      "metadata": {
        "id": "enId4cCOhTD8",
        "colab_type": "code",
        "outputId": "67cfac9b-929d-488a-ac88-ebc687d36aa6",
        "colab": {
          "base_uri": "https://localhost:8080/",
          "height": 34
        }
      },
      "cell_type": "code",
      "source": [
        "\n",
        "# Step 1\n",
        "# Install a Drive FUSE wrapper.\n",
        "# https://github.com/astrada/google-drive-ocamlfuse\n",
        "!apt-get install -y -qq software-properties-common python-software-properties module-init-tools\n",
        "!add-apt-repository -y ppa:alessandro-strada/ppa 2>&1 > /dev/null\n",
        "!apt-get update -qq 2>&1 > /dev/null\n",
        "!apt-get -y install -qq google-drive-ocamlfuse fuse\n"
      ],
      "execution_count": 1,
      "outputs": [
        {
          "output_type": "stream",
          "text": [
            "E: Package 'python-software-properties' has no installation candidate\n"
          ],
          "name": "stdout"
        }
      ]
    },
    {
      "metadata": {
        "id": "oTRpJF2h05N9",
        "colab_type": "code",
        "outputId": "e241fea7-c0c4-4144-db2d-3309844f626e",
        "colab": {
          "base_uri": "https://localhost:8080/",
          "height": 34
        }
      },
      "cell_type": "code",
      "source": [
        "\n",
        "# Step 2\n",
        "from google.colab import drive\n",
        "drive.mount('/content/drive')\n"
      ],
      "execution_count": 2,
      "outputs": [
        {
          "output_type": "stream",
          "text": [
            "Drive already mounted at /content/drive; to attempt to forcibly remount, call drive.mount(\"/content/drive\", force_remount=True).\n"
          ],
          "name": "stdout"
        }
      ]
    },
    {
      "metadata": {
        "id": "6VHnjsvDh3Hq",
        "colab_type": "code",
        "outputId": "b183501d-8518-43ac-a2d2-37cb852ac6a1",
        "colab": {
          "base_uri": "https://localhost:8080/",
          "height": 70
        }
      },
      "cell_type": "code",
      "source": [
        "!pip install pyarrow"
      ],
      "execution_count": 3,
      "outputs": [
        {
          "output_type": "stream",
          "text": [
            "Requirement already satisfied: pyarrow in /usr/local/lib/python3.6/dist-packages (0.11.1)\n",
            "Requirement already satisfied: numpy>=1.14 in /usr/local/lib/python3.6/dist-packages (from pyarrow) (1.14.6)\n",
            "Requirement already satisfied: six>=1.0.0 in /usr/local/lib/python3.6/dist-packages (from pyarrow) (1.11.0)\n"
          ],
          "name": "stdout"
        }
      ]
    },
    {
      "metadata": {
        "id": "ia3JGqB8owx-",
        "colab_type": "code",
        "colab": {}
      },
      "cell_type": "code",
      "source": [
        "!sudo chmod 444 'drive/My Drive/kaggle/vsb_power_line/data/train.parquet'"
      ],
      "execution_count": 0,
      "outputs": []
    },
    {
      "metadata": {
        "id": "XSpjfji1h7UZ",
        "colab_type": "code",
        "colab": {}
      },
      "cell_type": "code",
      "source": [
        "!cp 'drive/My Drive/kaggle/vsb_power_line/data/train.parquet' ."
      ],
      "execution_count": 0,
      "outputs": []
    },
    {
      "metadata": {
        "id": "pYBmGBfg1d7F",
        "colab_type": "code",
        "colab": {}
      },
      "cell_type": "code",
      "source": [
        "#!ls -l 'drive/My Drive/kaggle/vsb_power_line/data/train.parquet'"
      ],
      "execution_count": 0,
      "outputs": []
    },
    {
      "metadata": {
        "id": "SaK2qK2N1o1g",
        "colab_type": "code",
        "colab": {}
      },
      "cell_type": "code",
      "source": [
        "import numpy as np\n",
        "import matplotlib.pyplot as plt\n",
        "import pandas as pd\n",
        "import pyarrow.parquet as pq\n",
        "import matplotlib as mpl\n",
        "mpl.style.use('default')\n",
        "from PIL import Image\n",
        "import seaborn as sns\n",
        "%matplotlib inline"
      ],
      "execution_count": 0,
      "outputs": []
    },
    {
      "metadata": {
        "id": "XNvNMv-ll6bl",
        "colab_type": "code",
        "colab": {}
      },
      "cell_type": "code",
      "source": [
        "src= 'drive/My Drive/kaggle/vsb_power_line/data/'\n",
        "src_fig = 'drive/My Drive/kaggle/vsb_power_line/data/signal_to_img/'"
      ],
      "execution_count": 0,
      "outputs": []
    },
    {
      "metadata": {
        "id": "leeniSj21m5e",
        "colab_type": "code",
        "colab": {}
      },
      "cell_type": "code",
      "source": [
        "\n",
        "\n",
        "\n",
        "def sample(signal, kernel_size):\n",
        "  sampled = np.zeros((signal.shape[0],  signal.shape[1]//kernel_size))\n",
        "  print ('sampledshape',sampled.shape)\n",
        "  for i in range(signal.shape[1]//kernel_size):\n",
        "    begin = kernel_size * i\n",
        "    #print (f'begin = {begin}')\n",
        "    end = min(kernel_size * (i + 1), signal.shape[1])\n",
        "    #print (f'end = {end}')\n",
        "    sampled[:,  i] = np.mean(signal[:,  begin:end], axis=1)\n",
        "    #print (f'from begin {begin } to end {end} mean value {sampled[:, :, i] } selected ')\n",
        "  return sampled\n"
      ],
      "execution_count": 0,
      "outputs": []
    },
    {
      "metadata": {
        "id": "4snpK6Ui1nEW",
        "colab_type": "code",
        "colab": {}
      },
      "cell_type": "code",
      "source": [
        "\n",
        "def signals_to_img(fname,window=100):\n",
        "\n",
        "  #plt.imshow(FNAME)\n",
        "  #plt.show()\n",
        "  img = Image.open(fname).convert('RGB')\n",
        "  #print (img.size)\n",
        "  #img = img.resize((750,500))\n",
        "  x = np.array(img)\n",
        "  #print (x.shape)\n",
        "\n",
        "  img.save(fname)\n"
      ],
      "execution_count": 0,
      "outputs": []
    },
    {
      "metadata": {
        "id": "lUj2mWEj1nM6",
        "colab_type": "code",
        "colab": {}
      },
      "cell_type": "code",
      "source": [
        "\n",
        "def make_fig(j,sampled):\n",
        "\n",
        "  length = sampled.shape[0]\n",
        "\n",
        "\n",
        "  for i in range(length):\n",
        "\n",
        "\n",
        "    fig = plt.figure(figsize=(8, 4))\n",
        "    \n",
        "\n",
        "\n",
        "    plt.xticks([])\n",
        "    plt.yticks([])\n",
        "    \n",
        "    sns.despine(bottom=True, left=True)\n",
        "    plt.plot(sampled[i, :],color='r')\n",
        "    #plt.plot(sampled[i*11, :], label='Phase 1')\n",
        "    #plt.plot(sampled[i*11, :], label='Phase 2')\n",
        "    #plt.legend()\n",
        "    fname = src_fig+'test_file_'+str(i+j*454)+'.png'\n",
        "    plt.savefig(fname, format='png')\n",
        "    plt.close(fig)\n",
        "    signals_to_img(fname)\n",
        "    fig.clf()\n",
        "\n",
        "    #plt.despine(left=True,bottom=True)\n",
        "    #plt.show()"
      ],
      "execution_count": 0,
      "outputs": []
    },
    {
      "metadata": {
        "id": "puFoLJlk2FWU",
        "colab_type": "code",
        "colab": {}
      },
      "cell_type": "code",
      "source": [
        ""
      ],
      "execution_count": 0,
      "outputs": []
    },
    {
      "metadata": {
        "id": "D7A5NUInh2II",
        "colab_type": "code",
        "outputId": "c9699e15-97eb-4606-c2bd-11d1498d04fd",
        "colab": {
          "base_uri": "https://localhost:8080/",
          "height": 656
        }
      },
      "cell_type": "code",
      "source": [
        "\n",
        "#train_df = pq.read_pandas('train.parquet').to_pandas()\n",
        "\n",
        "for j in range(18):\n",
        "  \n",
        "  subset_train = pq.read_pandas('train.parquet', columns=[str(i+j*454) for i in range(454)]).to_pandas()\n",
        "  subset_value = np.array(subset_train.values).T\n",
        "  print (subset_value.shape)\n",
        "  sampled = sample(subset_value,100)\n",
        "  make_fig(j,sampled)\n",
        "  print (f'batch {j} /18 ok ')\n",
        "  \n",
        "  "
      ],
      "execution_count": 0,
      "outputs": [
        {
          "output_type": "stream",
          "text": [
            "(454, 800000)\n",
            "sampledshape (454, 8000)\n",
            "batch 0 /18 ok \n",
            "(454, 800000)\n",
            "sampledshape (454, 8000)\n",
            "batch 1 /18 ok \n",
            "(454, 800000)\n",
            "sampledshape (454, 8000)\n",
            "batch 2 /18 ok \n",
            "(454, 800000)\n",
            "sampledshape (454, 8000)\n",
            "batch 3 /18 ok \n",
            "(454, 800000)\n",
            "sampledshape (454, 8000)\n",
            "batch 4 /18 ok \n",
            "(454, 800000)\n",
            "sampledshape (454, 8000)\n",
            "batch 5 /18 ok \n",
            "(454, 800000)\n",
            "sampledshape (454, 8000)\n",
            "batch 6 /18 ok \n",
            "(454, 800000)\n",
            "sampledshape (454, 8000)\n",
            "batch 7 /18 ok \n",
            "(454, 800000)\n",
            "sampledshape (454, 8000)\n",
            "batch 8 /18 ok \n",
            "(454, 800000)\n",
            "sampledshape (454, 8000)\n",
            "batch 9 /18 ok \n",
            "(454, 800000)\n",
            "sampledshape (454, 8000)\n",
            "batch 10 /18 ok \n",
            "(454, 800000)\n",
            "sampledshape (454, 8000)\n",
            "batch 11 /18 ok \n"
          ],
          "name": "stdout"
        }
      ]
    },
    {
      "metadata": {
        "id": "Zn1KRAjMmEky",
        "colab_type": "code",
        "colab": {}
      },
      "cell_type": "code",
      "source": [
        "#subset_train.head()"
      ],
      "execution_count": 0,
      "outputs": []
    },
    {
      "metadata": {
        "id": "0GRIUSoHpYiX",
        "colab_type": "code",
        "outputId": "4b999a94-45ad-4da4-dd56-1c9a62bb08e1",
        "colab": {
          "base_uri": "https://localhost:8080/",
          "height": 612
        }
      },
      "cell_type": "code",
      "source": [
        "plt.figure(figsize=(15, 10))\n",
        "plt.plot(subset_value[0, :],color='r')\n",
        "\n",
        "plt.legend()\n",
        "plt.show()"
      ],
      "execution_count": 0,
      "outputs": [
        {
          "output_type": "stream",
          "text": [
            "No handles with labels found to put in legend.\n"
          ],
          "name": "stderr"
        },
        {
          "output_type": "display_data",
          "data": {
            "image/png": "[encoded data removed]",
            "text/plain": [
              "<matplotlib.figure.Figure at 0x7f62f97e54e0>"
            ]
          },
          "metadata": {
            "tags": []
          }
        }
      ]
    },
    {
      "metadata": {
        "id": "qWPlnWY5yMvU",
        "colab_type": "code",
        "colab": {}
      },
      "cell_type": "code",
      "source": [
        "def sample(signal, kernel_size):\n",
        "    sampled = np.zeros((signal.shape[0],  signal.shape[1]//kernel_size))\n",
        "    print ('sampledshape',sampled.shape)\n",
        "    for i in range(signal.shape[1]//kernel_size):\n",
        "        begin = kernel_size * i\n",
        "        #print (f'begin = {begin}')\n",
        "        end = min(kernel_size * (i + 1), signal.shape[1])\n",
        "        #print (f'end = {end}')\n",
        "        sampled[:,  i] = np.mean(signal[:,  begin:end], axis=1)\n",
        "        #print (f'from begin {begin } to end {end} mean value {sampled[:, :, i] } selected ')\n",
        "    return sampled"
      ],
      "execution_count": 0,
      "outputs": []
    },
    {
      "metadata": {
        "id": "gX-vtyHeyMzU",
        "colab_type": "code",
        "outputId": "f7ce1722-bcc8-4ae1-faa2-43e0d6c6e117",
        "colab": {
          "base_uri": "https://localhost:8080/",
          "height": 52
        }
      },
      "cell_type": "code",
      "source": [
        "sampled = sample(subset_value, 100)\n",
        "print (sampled.shape)"
      ],
      "execution_count": 0,
      "outputs": [
        {
          "output_type": "stream",
          "text": [
            "sampledshape (99, 8000)\n",
            "(99, 8000)\n"
          ],
          "name": "stdout"
        }
      ]
    },
    {
      "metadata": {
        "id": "jLJ8D5r4_7C4",
        "colab_type": "code",
        "outputId": "36e701be-879c-467e-f145-daca7bd56454",
        "colab": {
          "base_uri": "https://localhost:8080/",
          "height": 2286
        }
      },
      "cell_type": "code",
      "source": [
        "\n",
        "\n",
        "for i in range(9):\n",
        "\n",
        "  \n",
        "  fig = plt.figure(figsize=(8, 4))\n",
        "  sns.despine(bottom=True, left=True)\n",
        "  plt.plot(sampled[i, :],color='r')\n",
        "  #plt.plot(sampled[i*11, :], label='Phase 1')\n",
        "  #plt.plot(sampled[i*11, :], label='Phase 2')\n",
        "  #plt.legend()\n",
        "  fname = src_fig+'test_file_'+str(i)+'.png'\n",
        "  plt.savefig(fname, format='png')\n",
        "  plt.close(fig)\n",
        "  signals_to_img(fname)\n",
        "  \n",
        "  #plt.despine(left=True,bottom=True)\n",
        "  #plt.show()"
      ],
      "execution_count": 0,
      "outputs": [
        {
          "output_type": "display_data",
          "data": {
            "image/png": "[encoded data removed]",
            "text/plain": [
              "<matplotlib.figure.Figure at 0x7f63dcb51710>"
            ]
          },
          "metadata": {
            "tags": []
          }
        },
        {
          "output_type": "display_data",
          "data": {
            "image/png": "[encoded data removed]",
            "text/plain": [
              "<matplotlib.figure.Figure at 0x7f63dcae4d68>"
            ]
          },
          "metadata": {
            "tags": []
          }
        },
        {
          "output_type": "display_data",
          "data": {
            "image/png": "[encoded data removed]",
            "text/plain": [
              "<matplotlib.figure.Figure at 0x7f63dc947e48>"
            ]
          },
          "metadata": {
            "tags": []
          }
        },
        {
          "output_type": "display_data",
          "data": {
            "image/png": "[encoded data removed]",
            "text/plain": [
              "<matplotlib.figure.Figure at 0x7f63dc9ac198>"
            ]
          },
          "metadata": {
            "tags": []
          }
        },
        {
          "output_type": "display_data",
          "data": {
            "image/png": "[encoded data removed]",
            "text/plain": [
              "<matplotlib.figure.Figure at 0x7f63dcadfb70>"
            ]
          },
          "metadata": {
            "tags": []
          }
        },
        {
          "output_type": "display_data",
          "data": {
            "image/png": "[encoded data removed]",
            "text/plain": [
              "<matplotlib.figure.Figure at 0x7f63dcd3e860>"
            ]
          },
          "metadata": {
            "tags": []
          }
        },
        {
          "output_type": "display_data",
          "data": {
            "image/png": "[encoded data removed]",
            "text/plain": [
              "<matplotlib.figure.Figure at 0x7f63dc811a90>"
            ]
          },
          "metadata": {
            "tags": []
          }
        },
        {
          "output_type": "display_data",
          "data": {
            "image/png": "[encoded data removed]",
            "text/plain": [
              "<matplotlib.figure.Figure at 0x7f63dc966080>"
            ]
          },
          "metadata": {
            "tags": []
          }
        },
        {
          "output_type": "display_data",
          "data": {
            "image/png": "[encoded data removed]",
            "text/plain": [
              "<matplotlib.figure.Figure at 0x7f63dccf2e80>"
            ]
          },
          "metadata": {
            "tags": []
          }
        }
      ]
    },
    {
      "metadata": {
        "id": "ZNjqLBBpyNBO",
        "colab_type": "code",
        "colab": {}
      },
      "cell_type": "code",
      "source": [
        "def signals_to_img(fname,window=100):\n",
        "\n",
        "  #plt.imshow(FNAME)\n",
        "  #plt.show()\n",
        "  img = Image.open(fname).convert('RGB')\n",
        "  #print (img.size)\n",
        "  #img = img.resize((750,500))\n",
        "  x = np.array(img)\n",
        "  #print (x.shape)\n",
        "\n",
        "  img.save(fname)"
      ],
      "execution_count": 0,
      "outputs": []
    },
    {
      "metadata": {
        "id": "z7tM2W6bIK4m",
        "colab_type": "code",
        "outputId": "22d06f1f-8b05-433f-d482-455e1da56086",
        "colab": {
          "base_uri": "https://localhost:8080/",
          "height": 174
        }
      },
      "cell_type": "code",
      "source": [
        "signals_to_img('test_file_1.png')"
      ],
      "execution_count": 7,
      "outputs": [
        {
          "output_type": "error",
          "ename": "NameError",
          "evalue": "ignored",
          "traceback": [
            "\u001b[0;31m---------------------------------------------------------------------------\u001b[0m",
            "\u001b[0;31mNameError\u001b[0m                                 Traceback (most recent call last)",
            "\u001b[0;32m<ipython-input-7-065e4a77eac0>\u001b[0m in \u001b[0;36m<module>\u001b[0;34m()\u001b[0m\n\u001b[0;32m----> 1\u001b[0;31m \u001b[0msignals_to_img\u001b[0m\u001b[0;34m(\u001b[0m\u001b[0;34m'test_file_1.png'\u001b[0m\u001b[0;34m)\u001b[0m\u001b[0;34m\u001b[0m\u001b[0;34m\u001b[0m\u001b[0m\n\u001b[0m",
            "\u001b[0;31mNameError\u001b[0m: name 'signals_to_img' is not defined"
          ]
        }
      ]
    },
    {
      "metadata": {
        "id": "haV8gFLUFcvp",
        "colab_type": "code",
        "outputId": "21ac0e0d-a74e-422c-f682-bfb051ea904d",
        "colab": {
          "base_uri": "https://localhost:8080/",
          "height": 34
        }
      },
      "cell_type": "code",
      "source": [
        "im = plt.imread('test_file_1.png')\n",
        "im.shape"
      ],
      "execution_count": 8,
      "outputs": [
        {
          "output_type": "execute_result",
          "data": {
            "text/plain": [
              "(288, 576, 3)"
            ]
          },
          "metadata": {
            "tags": []
          },
          "execution_count": 8
        }
      ]
    },
    {
      "metadata": {
        "id": "ke_HACzN2uaP",
        "colab_type": "code",
        "colab": {
          "base_uri": "https://localhost:8080/",
          "height": 236
        },
        "outputId": "506b629d-754d-47d1-adbb-0594feb349d6"
      },
      "cell_type": "code",
      "source": [
        "im = plt.imread('test_file_4.png')\n",
        "plt.imshow(im)"
      ],
      "execution_count": 12,
      "outputs": [
        {
          "output_type": "execute_result",
          "data": {
            "text/plain": [
              "<matplotlib.image.AxesImage at 0x7ffac7615d68>"
            ]
          },
          "metadata": {
            "tags": []
          },
          "execution_count": 12
        },
        {
          "output_type": "display_data",
          "data": {
            "image/png": "[encoded data removed]",
            "text/plain": [
              "<matplotlib.figure.Figure at 0x7ffac764b0f0>"
            ]
          },
          "metadata": {
            "tags": []
          }
        }
      ]
    },
    {
      "metadata": {
        "id": "GmAQk9-CpfpQ",
        "colab_type": "code",
        "outputId": "14ccc0ca-2cec-4305-922d-950cb6279e6d",
        "colab": {
          "base_uri": "https://localhost:8080/",
          "height": 197
        }
      },
      "cell_type": "code",
      "source": [
        "train_csv_df = pd.read_csv(src+'metadata_train.csv')\n",
        "train_csv_df.head()"
      ],
      "execution_count": 0,
      "outputs": [
        {
          "output_type": "execute_result",
          "data": {
            "text/html": [
              "<div>\n",
              "<style scoped>\n",
              "    .dataframe tbody tr th:only-of-type {\n",
              "        vertical-align: middle;\n",
              "    }\n",
              "\n",
              "    .dataframe tbody tr th {\n",
              "        vertical-align: top;\n",
              "    }\n",
              "\n",
              "    .dataframe thead th {\n",
              "        text-align: right;\n",
              "    }\n",
              "</style>\n",
              "<table border=\"1\" class=\"dataframe\">\n",
              "  <thead>\n",
              "    <tr style=\"text-align: right;\">\n",
              "      <th></th>\n",
              "      <th>signal_id</th>\n",
              "      <th>id_measurement</th>\n",
              "      <th>phase</th>\n",
              "      <th>target</th>\n",
              "    </tr>\n",
              "  </thead>\n",
              "  <tbody>\n",
              "    <tr>\n",
              "      <th>0</th>\n",
              "      <td>0</td>\n",
              "      <td>0</td>\n",
              "      <td>0</td>\n",
              "      <td>0</td>\n",
              "    </tr>\n",
              "    <tr>\n",
              "      <th>1</th>\n",
              "      <td>1</td>\n",
              "      <td>0</td>\n",
              "      <td>1</td>\n",
              "      <td>0</td>\n",
              "    </tr>\n",
              "    <tr>\n",
              "      <th>2</th>\n",
              "      <td>2</td>\n",
              "      <td>0</td>\n",
              "      <td>2</td>\n",
              "      <td>0</td>\n",
              "    </tr>\n",
              "    <tr>\n",
              "      <th>3</th>\n",
              "      <td>3</td>\n",
              "      <td>1</td>\n",
              "      <td>0</td>\n",
              "      <td>1</td>\n",
              "    </tr>\n",
              "    <tr>\n",
              "      <th>4</th>\n",
              "      <td>4</td>\n",
              "      <td>1</td>\n",
              "      <td>1</td>\n",
              "      <td>1</td>\n",
              "    </tr>\n",
              "  </tbody>\n",
              "</table>\n",
              "</div>"
            ],
            "text/plain": [
              "   signal_id  id_measurement  phase  target\n",
              "0          0               0      0       0\n",
              "1          1               0      1       0\n",
              "2          2               0      2       0\n",
              "3          3               1      0       1\n",
              "4          4               1      1       1"
            ]
          },
          "metadata": {
            "tags": []
          },
          "execution_count": 12
        }
      ]
    },
    {
      "metadata": {
        "id": "2e8YF975yiTi",
        "colab_type": "code",
        "outputId": "45cbdb46-078b-4a04-aa07-ccef38cd219c",
        "colab": {
          "base_uri": "https://localhost:8080/",
          "height": 34
        }
      },
      "cell_type": "code",
      "source": [
        "train_csv_df.shape"
      ],
      "execution_count": 0,
      "outputs": [
        {
          "output_type": "execute_result",
          "data": {
            "text/plain": [
              "(8712, 4)"
            ]
          },
          "metadata": {
            "tags": []
          },
          "execution_count": 29
        }
      ]
    },
    {
      "metadata": {
        "id": "zwvpfyVDyT0I",
        "colab_type": "code",
        "outputId": "a951ec06-b8ce-4ca0-a4f9-9c662b87dec2",
        "colab": {
          "base_uri": "https://localhost:8080/",
          "height": 34
        }
      },
      "cell_type": "code",
      "source": [
        "target = train_csv_df['target'][::3]\n",
        "target.shape"
      ],
      "execution_count": 0,
      "outputs": [
        {
          "output_type": "execute_result",
          "data": {
            "text/plain": [
              "(2904,)"
            ]
          },
          "metadata": {
            "tags": []
          },
          "execution_count": 28
        }
      ]
    },
    {
      "metadata": {
        "id": "ggvQV350q04R",
        "colab_type": "code",
        "outputId": "12b59d51-d870-4f36-d990-2d8f1404a887",
        "colab": {
          "base_uri": "https://localhost:8080/",
          "height": 287
        }
      },
      "cell_type": "code",
      "source": [
        "train_csv_df.describe()"
      ],
      "execution_count": 0,
      "outputs": [
        {
          "output_type": "execute_result",
          "data": {
            "text/html": [
              "<div>\n",
              "<style scoped>\n",
              "    .dataframe tbody tr th:only-of-type {\n",
              "        vertical-align: middle;\n",
              "    }\n",
              "\n",
              "    .dataframe tbody tr th {\n",
              "        vertical-align: top;\n",
              "    }\n",
              "\n",
              "    .dataframe thead th {\n",
              "        text-align: right;\n",
              "    }\n",
              "</style>\n",
              "<table border=\"1\" class=\"dataframe\">\n",
              "  <thead>\n",
              "    <tr style=\"text-align: right;\">\n",
              "      <th></th>\n",
              "      <th>signal_id</th>\n",
              "      <th>id_measurement</th>\n",
              "      <th>phase</th>\n",
              "      <th>target</th>\n",
              "    </tr>\n",
              "  </thead>\n",
              "  <tbody>\n",
              "    <tr>\n",
              "      <th>count</th>\n",
              "      <td>8712.000000</td>\n",
              "      <td>8712.000000</td>\n",
              "      <td>8712.000000</td>\n",
              "      <td>8712.000000</td>\n",
              "    </tr>\n",
              "    <tr>\n",
              "      <th>mean</th>\n",
              "      <td>4355.500000</td>\n",
              "      <td>1451.500000</td>\n",
              "      <td>1.000000</td>\n",
              "      <td>0.060262</td>\n",
              "    </tr>\n",
              "    <tr>\n",
              "      <th>std</th>\n",
              "      <td>2515.082106</td>\n",
              "      <td>838.360658</td>\n",
              "      <td>0.816543</td>\n",
              "      <td>0.237985</td>\n",
              "    </tr>\n",
              "    <tr>\n",
              "      <th>min</th>\n",
              "      <td>0.000000</td>\n",
              "      <td>0.000000</td>\n",
              "      <td>0.000000</td>\n",
              "      <td>0.000000</td>\n",
              "    </tr>\n",
              "    <tr>\n",
              "      <th>25%</th>\n",
              "      <td>2177.750000</td>\n",
              "      <td>725.750000</td>\n",
              "      <td>0.000000</td>\n",
              "      <td>0.000000</td>\n",
              "    </tr>\n",
              "    <tr>\n",
              "      <th>50%</th>\n",
              "      <td>4355.500000</td>\n",
              "      <td>1451.500000</td>\n",
              "      <td>1.000000</td>\n",
              "      <td>0.000000</td>\n",
              "    </tr>\n",
              "    <tr>\n",
              "      <th>75%</th>\n",
              "      <td>6533.250000</td>\n",
              "      <td>2177.250000</td>\n",
              "      <td>2.000000</td>\n",
              "      <td>0.000000</td>\n",
              "    </tr>\n",
              "    <tr>\n",
              "      <th>max</th>\n",
              "      <td>8711.000000</td>\n",
              "      <td>2903.000000</td>\n",
              "      <td>2.000000</td>\n",
              "      <td>1.000000</td>\n",
              "    </tr>\n",
              "  </tbody>\n",
              "</table>\n",
              "</div>"
            ],
            "text/plain": [
              "         signal_id  id_measurement        phase       target\n",
              "count  8712.000000     8712.000000  8712.000000  8712.000000\n",
              "mean   4355.500000     1451.500000     1.000000     0.060262\n",
              "std    2515.082106      838.360658     0.816543     0.237985\n",
              "min       0.000000        0.000000     0.000000     0.000000\n",
              "25%    2177.750000      725.750000     0.000000     0.000000\n",
              "50%    4355.500000     1451.500000     1.000000     0.000000\n",
              "75%    6533.250000     2177.250000     2.000000     0.000000\n",
              "max    8711.000000     2903.000000     2.000000     1.000000"
            ]
          },
          "metadata": {
            "tags": []
          },
          "execution_count": 15
        }
      ]
    },
    {
      "metadata": {
        "id": "yQfrcRJ0q8Nx",
        "colab_type": "code",
        "outputId": "83b0d1e9-67e4-4ea6-e9bb-35010fe66a4d",
        "colab": {
          "base_uri": "https://localhost:8080/",
          "height": 1118
        }
      },
      "cell_type": "code",
      "source": [
        "train_csv_df['id_measurement'].value_counts()"
      ],
      "execution_count": 0,
      "outputs": [
        {
          "output_type": "execute_result",
          "data": {
            "text/plain": [
              "2047    3\n",
              "1130    3\n",
              "1114    3\n",
              "1106    3\n",
              "1098    3\n",
              "1090    3\n",
              "1082    3\n",
              "1074    3\n",
              "1066    3\n",
              "1058    3\n",
              "1050    3\n",
              "1042    3\n",
              "1034    3\n",
              "1026    3\n",
              "1018    3\n",
              "1010    3\n",
              "1002    3\n",
              "994     3\n",
              "986     3\n",
              "978     3\n",
              "970     3\n",
              "1122    3\n",
              "1138    3\n",
              "1314    3\n",
              "1146    3\n",
              "1298    3\n",
              "1290    3\n",
              "1282    3\n",
              "1274    3\n",
              "1266    3\n",
              "       ..\n",
              "397     3\n",
              "2444    3\n",
              "389     3\n",
              "2436    3\n",
              "381     3\n",
              "2428    3\n",
              "373     3\n",
              "2500    3\n",
              "453     3\n",
              "2508    3\n",
              "501     3\n",
              "533     3\n",
              "2580    3\n",
              "525     3\n",
              "2572    3\n",
              "517     3\n",
              "2564    3\n",
              "509     3\n",
              "2556    3\n",
              "2548    3\n",
              "461     3\n",
              "493     3\n",
              "2540    3\n",
              "485     3\n",
              "2532    3\n",
              "477     3\n",
              "2524    3\n",
              "469     3\n",
              "2516    3\n",
              "0       3\n",
              "Name: id_measurement, Length: 2904, dtype: int64"
            ]
          },
          "metadata": {
            "tags": []
          },
          "execution_count": 18
        }
      ]
    },
    {
      "metadata": {
        "id": "iMfRqhYOtELI",
        "colab_type": "code",
        "colab": {}
      },
      "cell_type": "code",
      "source": [
        ""
      ],
      "execution_count": 0,
      "outputs": []
    }
  ]
}