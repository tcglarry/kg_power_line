{
  "nbformat": 4,
  "nbformat_minor": 0,
  "metadata": {
    "colab": {
      "name": "vsb_power_line_eda_correct_3_axis.ipynb",
      "version": "0.3.2",
      "provenance": [],
      "collapsed_sections": [],
      "include_colab_link": true
    },
    "kernelspec": {
      "name": "python3",
      "display_name": "Python 3"
    },
    "accelerator": "GPU"
  },
  "cells": [
    {
      "cell_type": "markdown",
      "metadata": {
        "id": "view-in-github",
        "colab_type": "text"
      },
      "source": [
        "<a href=\"https://colab.research.google.com/github/tcglarry/kg_power_line/blob/master/vsb_power_line_eda_correct_3_axis.ipynb\" target=\"_parent\"><img src=\"https://colab.research.google.com/assets/colab-badge.svg\" alt=\"Open In Colab\"/></a>"
      ]
    },
    {
      "metadata": {
        "id": "enId4cCOhTD8",
        "colab_type": "code",
        "outputId": "a4a7b531-4550-48f1-ae94-9a9228d8e427",
        "colab": {
          "base_uri": "https://localhost:8080/",
          "height": 141
        }
      },
      "cell_type": "code",
      "source": [
        "\n",
        "# Step 1\n",
        "# Install a Drive FUSE wrapper.\n",
        "# https://github.com/astrada/google-drive-ocamlfuse\n",
        "!apt-get install -y -qq software-properties-common python-software-properties module-init-tools\n",
        "!add-apt-repository -y ppa:alessandro-strada/ppa 2>&1 > /dev/null\n",
        "!apt-get update -qq 2>&1 > /dev/null\n",
        "!apt-get -y install -qq google-drive-ocamlfuse fuse\n"
      ],
      "execution_count": 1,
      "outputs": [
        {
          "output_type": "stream",
          "text": [
            "E: Package 'python-software-properties' has no installation candidate\n",
            "Selecting previously unselected package google-drive-ocamlfuse.\n",
            "(Reading database ... 110842 files and directories currently installed.)\n",
            "Preparing to unpack .../google-drive-ocamlfuse_0.7.1-0ubuntu3~ubuntu18.04.1_amd64.deb ...\n",
            "Unpacking google-drive-ocamlfuse (0.7.1-0ubuntu3~ubuntu18.04.1) ...\n",
            "Setting up google-drive-ocamlfuse (0.7.1-0ubuntu3~ubuntu18.04.1) ...\n",
            "Processing triggers for man-db (2.8.3-2ubuntu0.1) ...\n"
          ],
          "name": "stdout"
        }
      ]
    },
    {
      "metadata": {
        "id": "oTRpJF2h05N9",
        "colab_type": "code",
        "outputId": "6f67fcdc-6e57-4a5e-e806-740419811c1c",
        "colab": {
          "base_uri": "https://localhost:8080/",
          "height": 125
        }
      },
      "cell_type": "code",
      "source": [
        "\n",
        "# Step 2\n",
        "from google.colab import drive\n",
        "drive.mount('/content/drive')\n"
      ],
      "execution_count": 2,
      "outputs": [
        {
          "output_type": "stream",
          "text": [
            "Go to this URL in a browser: https://accounts.google.com/o/oauth2/auth?client_id=947318989803-6bn6qk8qdgf4n4g3pfee6491hc0brc4i.apps.googleusercontent.com&redirect_uri=urn%3Aietf%3Awg%3Aoauth%3A2.0%3Aoob&scope=email%20https%3A%2F%2Fwww.googleapis.com%2Fauth%2Fdocs.test%20https%3A%2F%2Fwww.googleapis.com%2Fauth%2Fdrive%20https%3A%2F%2Fwww.googleapis.com%2Fauth%2Fdrive.photos.readonly%20https%3A%2F%2Fwww.googleapis.com%2Fauth%2Fpeopleapi.readonly&response_type=code\n",
            "\n",
            "Enter your authorization code:\n",
            "··········\n",
            "Mounted at /content/drive\n"
          ],
          "name": "stdout"
        }
      ]
    },
    {
      "metadata": {
        "id": "6VHnjsvDh3Hq",
        "colab_type": "code",
        "outputId": "6f3f251c-8f4f-4d96-f0fb-596fe93c8561",
        "colab": {
          "base_uri": "https://localhost:8080/",
          "height": 161
        }
      },
      "cell_type": "code",
      "source": [
        "!pip install pyarrow"
      ],
      "execution_count": 3,
      "outputs": [
        {
          "output_type": "stream",
          "text": [
            "Collecting pyarrow\n",
            "\u001b[?25l  Downloading https://files.pythonhosted.org/packages/36/94/23135312f97b20d6457294606fb70fad43ef93b7bffe567088ebe3623703/pyarrow-0.11.1-cp36-cp36m-manylinux1_x86_64.whl (11.6MB)\n",
            "\u001b[K    100% |████████████████████████████████| 11.6MB 2.8MB/s \n",
            "\u001b[?25hRequirement already satisfied: six>=1.0.0 in /usr/local/lib/python3.6/dist-packages (from pyarrow) (1.11.0)\n",
            "Requirement already satisfied: numpy>=1.14 in /usr/local/lib/python3.6/dist-packages (from pyarrow) (1.14.6)\n",
            "Installing collected packages: pyarrow\n",
            "Successfully installed pyarrow-0.11.1\n"
          ],
          "name": "stdout"
        }
      ]
    },
    {
      "metadata": {
        "id": "ia3JGqB8owx-",
        "colab_type": "code",
        "colab": {}
      },
      "cell_type": "code",
      "source": [
        "!sudo chmod 444 'drive/My Drive/kaggle/vsb_power_line/data/train.parquet'"
      ],
      "execution_count": 0,
      "outputs": []
    },
    {
      "metadata": {
        "id": "XSpjfji1h7UZ",
        "colab_type": "code",
        "colab": {}
      },
      "cell_type": "code",
      "source": [
        "!cp 'drive/My Drive/kaggle/vsb_power_line/data/train.parquet' ."
      ],
      "execution_count": 0,
      "outputs": []
    },
    {
      "metadata": {
        "id": "SaK2qK2N1o1g",
        "colab_type": "code",
        "colab": {}
      },
      "cell_type": "code",
      "source": [
        "import numpy as np\n",
        "import matplotlib.pyplot as plt\n",
        "import pandas as pd\n",
        "import pyarrow.parquet as pq\n",
        "import matplotlib as mpl\n",
        "mpl.style.use('default')\n",
        "from PIL import Image\n",
        "import seaborn as sns\n",
        "%matplotlib inline"
      ],
      "execution_count": 0,
      "outputs": []
    },
    {
      "metadata": {
        "id": "XNvNMv-ll6bl",
        "colab_type": "code",
        "colab": {}
      },
      "cell_type": "code",
      "source": [
        "src= 'drive/My Drive/kaggle/vsb_power_line/data/'\n",
        "src_train_idx_1 = 'drive/My Drive/kaggle/vsb_power_line/data/train_test_data_2/train/1/'\n",
        "src_train_idx_0 = 'drive/My Drive/kaggle/vsb_power_line/data/train_test_data_2/train/0/'\n",
        "src_valid_idx_1 = 'drive/My Drive/kaggle/vsb_power_line/data/train_test_data_2/validation/1/'\n",
        "src_valid_idx_0 = 'drive/My Drive/kaggle/vsb_power_line/data/train_test_data_2/validation/0/'\n",
        "src_test = 'drive/My Drive/kaggle/vsb_power_line/data/train_test_data_2/test/'"
      ],
      "execution_count": 0,
      "outputs": []
    },
    {
      "metadata": {
        "id": "G0OPkX1PKZ5R",
        "colab_type": "code",
        "colab": {}
      },
      "cell_type": "code",
      "source": [
        "\n"
      ],
      "execution_count": 0,
      "outputs": []
    },
    {
      "metadata": {
        "id": "ENQvYbZc6afs",
        "colab_type": "code",
        "colab": {}
      },
      "cell_type": "code",
      "source": [
        ""
      ],
      "execution_count": 0,
      "outputs": []
    },
    {
      "metadata": {
        "id": "4hWAEM_Riea0",
        "colab_type": "code",
        "outputId": "c8ac7c31-8bd2-4ba8-db01-dedea2fcc7bd",
        "colab": {
          "base_uri": "https://localhost:8080/",
          "height": 215
        }
      },
      "cell_type": "code",
      "source": [
        "train_df = pd.read_csv(src+'metadata_train.csv')\n",
        "print (train_df.shape)\n",
        "train_df['target'].value_counts()\n",
        "train_df.head()"
      ],
      "execution_count": 8,
      "outputs": [
        {
          "output_type": "stream",
          "text": [
            "(8712, 4)\n"
          ],
          "name": "stdout"
        },
        {
          "output_type": "execute_result",
          "data": {
            "text/html": [
              "<div>\n",
              "<style scoped>\n",
              "    .dataframe tbody tr th:only-of-type {\n",
              "        vertical-align: middle;\n",
              "    }\n",
              "\n",
              "    .dataframe tbody tr th {\n",
              "        vertical-align: top;\n",
              "    }\n",
              "\n",
              "    .dataframe thead th {\n",
              "        text-align: right;\n",
              "    }\n",
              "</style>\n",
              "<table border=\"1\" class=\"dataframe\">\n",
              "  <thead>\n",
              "    <tr style=\"text-align: right;\">\n",
              "      <th></th>\n",
              "      <th>signal_id</th>\n",
              "      <th>id_measurement</th>\n",
              "      <th>phase</th>\n",
              "      <th>target</th>\n",
              "    </tr>\n",
              "  </thead>\n",
              "  <tbody>\n",
              "    <tr>\n",
              "      <th>0</th>\n",
              "      <td>0</td>\n",
              "      <td>0</td>\n",
              "      <td>0</td>\n",
              "      <td>0</td>\n",
              "    </tr>\n",
              "    <tr>\n",
              "      <th>1</th>\n",
              "      <td>1</td>\n",
              "      <td>0</td>\n",
              "      <td>1</td>\n",
              "      <td>0</td>\n",
              "    </tr>\n",
              "    <tr>\n",
              "      <th>2</th>\n",
              "      <td>2</td>\n",
              "      <td>0</td>\n",
              "      <td>2</td>\n",
              "      <td>0</td>\n",
              "    </tr>\n",
              "    <tr>\n",
              "      <th>3</th>\n",
              "      <td>3</td>\n",
              "      <td>1</td>\n",
              "      <td>0</td>\n",
              "      <td>1</td>\n",
              "    </tr>\n",
              "    <tr>\n",
              "      <th>4</th>\n",
              "      <td>4</td>\n",
              "      <td>1</td>\n",
              "      <td>1</td>\n",
              "      <td>1</td>\n",
              "    </tr>\n",
              "  </tbody>\n",
              "</table>\n",
              "</div>"
            ],
            "text/plain": [
              "   signal_id  id_measurement  phase  target\n",
              "0          0               0      0       0\n",
              "1          1               0      1       0\n",
              "2          2               0      2       0\n",
              "3          3               1      0       1\n",
              "4          4               1      1       1"
            ]
          },
          "metadata": {
            "tags": []
          },
          "execution_count": 8
        }
      ]
    },
    {
      "metadata": {
        "id": "AUZD9WqWwpAP",
        "colab_type": "code",
        "outputId": "ccfba90d-d350-4e9d-a21a-3a8262653d10",
        "colab": {
          "base_uri": "https://localhost:8080/",
          "height": 215
        }
      },
      "cell_type": "code",
      "source": [
        "def every_3_sum_label(x):\n",
        "    #print (x)\n",
        "    length = x.shape[0]\n",
        "    print ('len', length)\n",
        "    y = x.copy()\n",
        "    for i in range(length//3):\n",
        "\n",
        "        y[i*3:i*3+3] = x[i*3:i*3+3].sum()\n",
        "\n",
        "    return y\n",
        "  \n",
        "train_df['re_target'] = every_3_sum_label(train_df['target'])\n",
        "train_df.head()"
      ],
      "execution_count": 9,
      "outputs": [
        {
          "output_type": "stream",
          "text": [
            "len 8712\n"
          ],
          "name": "stdout"
        },
        {
          "output_type": "execute_result",
          "data": {
            "text/html": [
              "<div>\n",
              "<style scoped>\n",
              "    .dataframe tbody tr th:only-of-type {\n",
              "        vertical-align: middle;\n",
              "    }\n",
              "\n",
              "    .dataframe tbody tr th {\n",
              "        vertical-align: top;\n",
              "    }\n",
              "\n",
              "    .dataframe thead th {\n",
              "        text-align: right;\n",
              "    }\n",
              "</style>\n",
              "<table border=\"1\" class=\"dataframe\">\n",
              "  <thead>\n",
              "    <tr style=\"text-align: right;\">\n",
              "      <th></th>\n",
              "      <th>signal_id</th>\n",
              "      <th>id_measurement</th>\n",
              "      <th>phase</th>\n",
              "      <th>target</th>\n",
              "      <th>re_target</th>\n",
              "    </tr>\n",
              "  </thead>\n",
              "  <tbody>\n",
              "    <tr>\n",
              "      <th>0</th>\n",
              "      <td>0</td>\n",
              "      <td>0</td>\n",
              "      <td>0</td>\n",
              "      <td>0</td>\n",
              "      <td>0</td>\n",
              "    </tr>\n",
              "    <tr>\n",
              "      <th>1</th>\n",
              "      <td>1</td>\n",
              "      <td>0</td>\n",
              "      <td>1</td>\n",
              "      <td>0</td>\n",
              "      <td>0</td>\n",
              "    </tr>\n",
              "    <tr>\n",
              "      <th>2</th>\n",
              "      <td>2</td>\n",
              "      <td>0</td>\n",
              "      <td>2</td>\n",
              "      <td>0</td>\n",
              "      <td>0</td>\n",
              "    </tr>\n",
              "    <tr>\n",
              "      <th>3</th>\n",
              "      <td>3</td>\n",
              "      <td>1</td>\n",
              "      <td>0</td>\n",
              "      <td>1</td>\n",
              "      <td>3</td>\n",
              "    </tr>\n",
              "    <tr>\n",
              "      <th>4</th>\n",
              "      <td>4</td>\n",
              "      <td>1</td>\n",
              "      <td>1</td>\n",
              "      <td>1</td>\n",
              "      <td>3</td>\n",
              "    </tr>\n",
              "  </tbody>\n",
              "</table>\n",
              "</div>"
            ],
            "text/plain": [
              "   signal_id  id_measurement  phase  target  re_target\n",
              "0          0               0      0       0          0\n",
              "1          1               0      1       0          0\n",
              "2          2               0      2       0          0\n",
              "3          3               1      0       1          3\n",
              "4          4               1      1       1          3"
            ]
          },
          "metadata": {
            "tags": []
          },
          "execution_count": 9
        }
      ]
    },
    {
      "metadata": {
        "id": "kYa3M5KI266p",
        "colab_type": "code",
        "outputId": "3df720c7-22c5-4762-97b0-aff633437fb5",
        "colab": {
          "base_uri": "https://localhost:8080/",
          "height": 233
        }
      },
      "cell_type": "code",
      "source": [
        "def every_3_tuple(x):\n",
        "  \n",
        "  y_list = []\n",
        "  #print (x)\n",
        "  length = x.shape[0]\n",
        "  print ('len', length)\n",
        "  y = x.copy()\n",
        "  for i in range(length//3):\n",
        "\n",
        "    #print (x[i*3],x[i*3+1] ,x[i*3+2])\n",
        "\n",
        "\n",
        "\n",
        "\n",
        "    #y[i*3:i*3+3] = (x[i*3],x[i*3+1] ,x[i*3+2])*3\n",
        "    \n",
        "    \n",
        "    y_list.append((x[i*3],x[i*3+1] ,x[i*3+2]))\n",
        "    \n",
        "    y_list.append((x[i*3],x[i*3+1] ,x[i*3+2]))\n",
        "    \n",
        "    y_list.append((x[i*3],x[i*3+1] ,x[i*3+2]))\n",
        "    \n",
        "  print (len(y_list))\n",
        "\n",
        "\n",
        "  return y_list\n",
        "  \n",
        "train_df['target_tuple'] = every_3_tuple(train_df['target'])\n",
        "train_df.head()"
      ],
      "execution_count": 0,
      "outputs": [
        {
          "output_type": "stream",
          "text": [
            "len 8712\n",
            "8712\n"
          ],
          "name": "stdout"
        },
        {
          "output_type": "execute_result",
          "data": {
            "text/html": [
              "<div>\n",
              "<style scoped>\n",
              "    .dataframe tbody tr th:only-of-type {\n",
              "        vertical-align: middle;\n",
              "    }\n",
              "\n",
              "    .dataframe tbody tr th {\n",
              "        vertical-align: top;\n",
              "    }\n",
              "\n",
              "    .dataframe thead th {\n",
              "        text-align: right;\n",
              "    }\n",
              "</style>\n",
              "<table border=\"1\" class=\"dataframe\">\n",
              "  <thead>\n",
              "    <tr style=\"text-align: right;\">\n",
              "      <th></th>\n",
              "      <th>signal_id</th>\n",
              "      <th>id_measurement</th>\n",
              "      <th>phase</th>\n",
              "      <th>target</th>\n",
              "      <th>re_target</th>\n",
              "      <th>target_tuple</th>\n",
              "    </tr>\n",
              "  </thead>\n",
              "  <tbody>\n",
              "    <tr>\n",
              "      <th>0</th>\n",
              "      <td>0</td>\n",
              "      <td>0</td>\n",
              "      <td>0</td>\n",
              "      <td>0</td>\n",
              "      <td>0</td>\n",
              "      <td>(0, 0, 0)</td>\n",
              "    </tr>\n",
              "    <tr>\n",
              "      <th>1</th>\n",
              "      <td>1</td>\n",
              "      <td>0</td>\n",
              "      <td>1</td>\n",
              "      <td>0</td>\n",
              "      <td>0</td>\n",
              "      <td>(0, 0, 0)</td>\n",
              "    </tr>\n",
              "    <tr>\n",
              "      <th>2</th>\n",
              "      <td>2</td>\n",
              "      <td>0</td>\n",
              "      <td>2</td>\n",
              "      <td>0</td>\n",
              "      <td>0</td>\n",
              "      <td>(0, 0, 0)</td>\n",
              "    </tr>\n",
              "    <tr>\n",
              "      <th>3</th>\n",
              "      <td>3</td>\n",
              "      <td>1</td>\n",
              "      <td>0</td>\n",
              "      <td>1</td>\n",
              "      <td>3</td>\n",
              "      <td>(1, 1, 1)</td>\n",
              "    </tr>\n",
              "    <tr>\n",
              "      <th>4</th>\n",
              "      <td>4</td>\n",
              "      <td>1</td>\n",
              "      <td>1</td>\n",
              "      <td>1</td>\n",
              "      <td>3</td>\n",
              "      <td>(1, 1, 1)</td>\n",
              "    </tr>\n",
              "  </tbody>\n",
              "</table>\n",
              "</div>"
            ],
            "text/plain": [
              "   signal_id  id_measurement  phase  target  re_target target_tuple\n",
              "0          0               0      0       0          0    (0, 0, 0)\n",
              "1          1               0      1       0          0    (0, 0, 0)\n",
              "2          2               0      2       0          0    (0, 0, 0)\n",
              "3          3               1      0       1          3    (1, 1, 1)\n",
              "4          4               1      1       1          3    (1, 1, 1)"
            ]
          },
          "metadata": {
            "tags": []
          },
          "execution_count": 44
        }
      ]
    },
    {
      "metadata": {
        "id": "ufwFq0lI6CHf",
        "colab_type": "code",
        "outputId": "a82a71f7-5de2-4cff-c92f-c3243d2b0420",
        "colab": {
          "base_uri": "https://localhost:8080/",
          "height": 176
        }
      },
      "cell_type": "code",
      "source": [
        "\n",
        "train_df['target_tuple'].value_counts()"
      ],
      "execution_count": 0,
      "outputs": [
        {
          "output_type": "execute_result",
          "data": {
            "text/plain": [
              "(0, 0, 0)    8130\n",
              "(1, 1, 1)     468\n",
              "(0, 0, 1)      36\n",
              "(1, 0, 1)      30\n",
              "(1, 0, 0)      18\n",
              "(1, 1, 0)      18\n",
              "(0, 1, 1)       9\n",
              "(0, 1, 0)       3\n",
              "Name: target_tuple, dtype: int64"
            ]
          },
          "metadata": {
            "tags": []
          },
          "execution_count": 49
        }
      ]
    },
    {
      "metadata": {
        "id": "iI9j2cHH64Lw",
        "colab_type": "code",
        "outputId": "449f8d28-3fc8-45c0-e8dd-6dc393941913",
        "colab": {
          "base_uri": "https://localhost:8080/",
          "height": 318
        }
      },
      "cell_type": "code",
      "source": [
        "train_df['categorical'] = train_df['target_tuple']\n",
        "x_dict ={}\n",
        "idx = list(np.arange(8))\n",
        "v = list(np.unique(train_df['categorical']))\n",
        "\n",
        "\n",
        "\n",
        "for i,j in enumerate(v):\n",
        "  \n",
        "  print (j)\n",
        "  \n",
        "  print (idx[i])\n",
        "  x_dict[j] = idx[i]\n",
        "\n",
        "print (x_dict)\n"
      ],
      "execution_count": 0,
      "outputs": [
        {
          "output_type": "stream",
          "text": [
            "(0, 0, 0)\n",
            "0\n",
            "(0, 0, 1)\n",
            "1\n",
            "(0, 1, 0)\n",
            "2\n",
            "(0, 1, 1)\n",
            "3\n",
            "(1, 0, 0)\n",
            "4\n",
            "(1, 0, 1)\n",
            "5\n",
            "(1, 1, 0)\n",
            "6\n",
            "(1, 1, 1)\n",
            "7\n",
            "{(0, 0, 0): 0, (0, 0, 1): 1, (0, 1, 0): 2, (0, 1, 1): 3, (1, 0, 0): 4, (1, 0, 1): 5, (1, 1, 0): 6, (1, 1, 1): 7}\n"
          ],
          "name": "stdout"
        }
      ]
    },
    {
      "metadata": {
        "id": "3OQlRFbJARNS",
        "colab_type": "code",
        "colab": {}
      },
      "cell_type": "code",
      "source": [
        "train_df['categorical'] = train_df['categorical'].map(x_dict)"
      ],
      "execution_count": 0,
      "outputs": []
    },
    {
      "metadata": {
        "id": "Z8E_9Y4cAZje",
        "colab_type": "code",
        "outputId": "d86db0ea-2469-4917-d139-a8e2082981bd",
        "colab": {
          "base_uri": "https://localhost:8080/",
          "height": 1906
        }
      },
      "cell_type": "code",
      "source": [
        "train_df"
      ],
      "execution_count": 0,
      "outputs": [
        {
          "output_type": "execute_result",
          "data": {
            "text/html": [
              "<div>\n",
              "<style scoped>\n",
              "    .dataframe tbody tr th:only-of-type {\n",
              "        vertical-align: middle;\n",
              "    }\n",
              "\n",
              "    .dataframe tbody tr th {\n",
              "        vertical-align: top;\n",
              "    }\n",
              "\n",
              "    .dataframe thead th {\n",
              "        text-align: right;\n",
              "    }\n",
              "</style>\n",
              "<table border=\"1\" class=\"dataframe\">\n",
              "  <thead>\n",
              "    <tr style=\"text-align: right;\">\n",
              "      <th></th>\n",
              "      <th>signal_id</th>\n",
              "      <th>id_measurement</th>\n",
              "      <th>phase</th>\n",
              "      <th>target</th>\n",
              "      <th>re_target</th>\n",
              "      <th>target_tuple</th>\n",
              "      <th>categorical</th>\n",
              "    </tr>\n",
              "  </thead>\n",
              "  <tbody>\n",
              "    <tr>\n",
              "      <th>0</th>\n",
              "      <td>0</td>\n",
              "      <td>0</td>\n",
              "      <td>0</td>\n",
              "      <td>0</td>\n",
              "      <td>0</td>\n",
              "      <td>(0, 0, 0)</td>\n",
              "      <td>0</td>\n",
              "    </tr>\n",
              "    <tr>\n",
              "      <th>1</th>\n",
              "      <td>1</td>\n",
              "      <td>0</td>\n",
              "      <td>1</td>\n",
              "      <td>0</td>\n",
              "      <td>0</td>\n",
              "      <td>(0, 0, 0)</td>\n",
              "      <td>0</td>\n",
              "    </tr>\n",
              "    <tr>\n",
              "      <th>2</th>\n",
              "      <td>2</td>\n",
              "      <td>0</td>\n",
              "      <td>2</td>\n",
              "      <td>0</td>\n",
              "      <td>0</td>\n",
              "      <td>(0, 0, 0)</td>\n",
              "      <td>0</td>\n",
              "    </tr>\n",
              "    <tr>\n",
              "      <th>3</th>\n",
              "      <td>3</td>\n",
              "      <td>1</td>\n",
              "      <td>0</td>\n",
              "      <td>1</td>\n",
              "      <td>3</td>\n",
              "      <td>(1, 1, 1)</td>\n",
              "      <td>7</td>\n",
              "    </tr>\n",
              "    <tr>\n",
              "      <th>4</th>\n",
              "      <td>4</td>\n",
              "      <td>1</td>\n",
              "      <td>1</td>\n",
              "      <td>1</td>\n",
              "      <td>3</td>\n",
              "      <td>(1, 1, 1)</td>\n",
              "      <td>7</td>\n",
              "    </tr>\n",
              "    <tr>\n",
              "      <th>5</th>\n",
              "      <td>5</td>\n",
              "      <td>1</td>\n",
              "      <td>2</td>\n",
              "      <td>1</td>\n",
              "      <td>3</td>\n",
              "      <td>(1, 1, 1)</td>\n",
              "      <td>7</td>\n",
              "    </tr>\n",
              "    <tr>\n",
              "      <th>6</th>\n",
              "      <td>6</td>\n",
              "      <td>2</td>\n",
              "      <td>0</td>\n",
              "      <td>0</td>\n",
              "      <td>0</td>\n",
              "      <td>(0, 0, 0)</td>\n",
              "      <td>0</td>\n",
              "    </tr>\n",
              "    <tr>\n",
              "      <th>7</th>\n",
              "      <td>7</td>\n",
              "      <td>2</td>\n",
              "      <td>1</td>\n",
              "      <td>0</td>\n",
              "      <td>0</td>\n",
              "      <td>(0, 0, 0)</td>\n",
              "      <td>0</td>\n",
              "    </tr>\n",
              "    <tr>\n",
              "      <th>8</th>\n",
              "      <td>8</td>\n",
              "      <td>2</td>\n",
              "      <td>2</td>\n",
              "      <td>0</td>\n",
              "      <td>0</td>\n",
              "      <td>(0, 0, 0)</td>\n",
              "      <td>0</td>\n",
              "    </tr>\n",
              "    <tr>\n",
              "      <th>9</th>\n",
              "      <td>9</td>\n",
              "      <td>3</td>\n",
              "      <td>0</td>\n",
              "      <td>0</td>\n",
              "      <td>0</td>\n",
              "      <td>(0, 0, 0)</td>\n",
              "      <td>0</td>\n",
              "    </tr>\n",
              "    <tr>\n",
              "      <th>10</th>\n",
              "      <td>10</td>\n",
              "      <td>3</td>\n",
              "      <td>1</td>\n",
              "      <td>0</td>\n",
              "      <td>0</td>\n",
              "      <td>(0, 0, 0)</td>\n",
              "      <td>0</td>\n",
              "    </tr>\n",
              "    <tr>\n",
              "      <th>11</th>\n",
              "      <td>11</td>\n",
              "      <td>3</td>\n",
              "      <td>2</td>\n",
              "      <td>0</td>\n",
              "      <td>0</td>\n",
              "      <td>(0, 0, 0)</td>\n",
              "      <td>0</td>\n",
              "    </tr>\n",
              "    <tr>\n",
              "      <th>12</th>\n",
              "      <td>12</td>\n",
              "      <td>4</td>\n",
              "      <td>0</td>\n",
              "      <td>0</td>\n",
              "      <td>0</td>\n",
              "      <td>(0, 0, 0)</td>\n",
              "      <td>0</td>\n",
              "    </tr>\n",
              "    <tr>\n",
              "      <th>13</th>\n",
              "      <td>13</td>\n",
              "      <td>4</td>\n",
              "      <td>1</td>\n",
              "      <td>0</td>\n",
              "      <td>0</td>\n",
              "      <td>(0, 0, 0)</td>\n",
              "      <td>0</td>\n",
              "    </tr>\n",
              "    <tr>\n",
              "      <th>14</th>\n",
              "      <td>14</td>\n",
              "      <td>4</td>\n",
              "      <td>2</td>\n",
              "      <td>0</td>\n",
              "      <td>0</td>\n",
              "      <td>(0, 0, 0)</td>\n",
              "      <td>0</td>\n",
              "    </tr>\n",
              "    <tr>\n",
              "      <th>15</th>\n",
              "      <td>15</td>\n",
              "      <td>5</td>\n",
              "      <td>0</td>\n",
              "      <td>0</td>\n",
              "      <td>0</td>\n",
              "      <td>(0, 0, 0)</td>\n",
              "      <td>0</td>\n",
              "    </tr>\n",
              "    <tr>\n",
              "      <th>16</th>\n",
              "      <td>16</td>\n",
              "      <td>5</td>\n",
              "      <td>1</td>\n",
              "      <td>0</td>\n",
              "      <td>0</td>\n",
              "      <td>(0, 0, 0)</td>\n",
              "      <td>0</td>\n",
              "    </tr>\n",
              "    <tr>\n",
              "      <th>17</th>\n",
              "      <td>17</td>\n",
              "      <td>5</td>\n",
              "      <td>2</td>\n",
              "      <td>0</td>\n",
              "      <td>0</td>\n",
              "      <td>(0, 0, 0)</td>\n",
              "      <td>0</td>\n",
              "    </tr>\n",
              "    <tr>\n",
              "      <th>18</th>\n",
              "      <td>18</td>\n",
              "      <td>6</td>\n",
              "      <td>0</td>\n",
              "      <td>0</td>\n",
              "      <td>0</td>\n",
              "      <td>(0, 0, 0)</td>\n",
              "      <td>0</td>\n",
              "    </tr>\n",
              "    <tr>\n",
              "      <th>19</th>\n",
              "      <td>19</td>\n",
              "      <td>6</td>\n",
              "      <td>1</td>\n",
              "      <td>0</td>\n",
              "      <td>0</td>\n",
              "      <td>(0, 0, 0)</td>\n",
              "      <td>0</td>\n",
              "    </tr>\n",
              "    <tr>\n",
              "      <th>20</th>\n",
              "      <td>20</td>\n",
              "      <td>6</td>\n",
              "      <td>2</td>\n",
              "      <td>0</td>\n",
              "      <td>0</td>\n",
              "      <td>(0, 0, 0)</td>\n",
              "      <td>0</td>\n",
              "    </tr>\n",
              "    <tr>\n",
              "      <th>21</th>\n",
              "      <td>21</td>\n",
              "      <td>7</td>\n",
              "      <td>0</td>\n",
              "      <td>0</td>\n",
              "      <td>0</td>\n",
              "      <td>(0, 0, 0)</td>\n",
              "      <td>0</td>\n",
              "    </tr>\n",
              "    <tr>\n",
              "      <th>22</th>\n",
              "      <td>22</td>\n",
              "      <td>7</td>\n",
              "      <td>1</td>\n",
              "      <td>0</td>\n",
              "      <td>0</td>\n",
              "      <td>(0, 0, 0)</td>\n",
              "      <td>0</td>\n",
              "    </tr>\n",
              "    <tr>\n",
              "      <th>23</th>\n",
              "      <td>23</td>\n",
              "      <td>7</td>\n",
              "      <td>2</td>\n",
              "      <td>0</td>\n",
              "      <td>0</td>\n",
              "      <td>(0, 0, 0)</td>\n",
              "      <td>0</td>\n",
              "    </tr>\n",
              "    <tr>\n",
              "      <th>24</th>\n",
              "      <td>24</td>\n",
              "      <td>8</td>\n",
              "      <td>0</td>\n",
              "      <td>0</td>\n",
              "      <td>0</td>\n",
              "      <td>(0, 0, 0)</td>\n",
              "      <td>0</td>\n",
              "    </tr>\n",
              "    <tr>\n",
              "      <th>25</th>\n",
              "      <td>25</td>\n",
              "      <td>8</td>\n",
              "      <td>1</td>\n",
              "      <td>0</td>\n",
              "      <td>0</td>\n",
              "      <td>(0, 0, 0)</td>\n",
              "      <td>0</td>\n",
              "    </tr>\n",
              "    <tr>\n",
              "      <th>26</th>\n",
              "      <td>26</td>\n",
              "      <td>8</td>\n",
              "      <td>2</td>\n",
              "      <td>0</td>\n",
              "      <td>0</td>\n",
              "      <td>(0, 0, 0)</td>\n",
              "      <td>0</td>\n",
              "    </tr>\n",
              "    <tr>\n",
              "      <th>27</th>\n",
              "      <td>27</td>\n",
              "      <td>9</td>\n",
              "      <td>0</td>\n",
              "      <td>0</td>\n",
              "      <td>0</td>\n",
              "      <td>(0, 0, 0)</td>\n",
              "      <td>0</td>\n",
              "    </tr>\n",
              "    <tr>\n",
              "      <th>28</th>\n",
              "      <td>28</td>\n",
              "      <td>9</td>\n",
              "      <td>1</td>\n",
              "      <td>0</td>\n",
              "      <td>0</td>\n",
              "      <td>(0, 0, 0)</td>\n",
              "      <td>0</td>\n",
              "    </tr>\n",
              "    <tr>\n",
              "      <th>29</th>\n",
              "      <td>29</td>\n",
              "      <td>9</td>\n",
              "      <td>2</td>\n",
              "      <td>0</td>\n",
              "      <td>0</td>\n",
              "      <td>(0, 0, 0)</td>\n",
              "      <td>0</td>\n",
              "    </tr>\n",
              "    <tr>\n",
              "      <th>...</th>\n",
              "      <td>...</td>\n",
              "      <td>...</td>\n",
              "      <td>...</td>\n",
              "      <td>...</td>\n",
              "      <td>...</td>\n",
              "      <td>...</td>\n",
              "      <td>...</td>\n",
              "    </tr>\n",
              "    <tr>\n",
              "      <th>8682</th>\n",
              "      <td>8682</td>\n",
              "      <td>2894</td>\n",
              "      <td>0</td>\n",
              "      <td>0</td>\n",
              "      <td>0</td>\n",
              "      <td>(0, 0, 0)</td>\n",
              "      <td>0</td>\n",
              "    </tr>\n",
              "    <tr>\n",
              "      <th>8683</th>\n",
              "      <td>8683</td>\n",
              "      <td>2894</td>\n",
              "      <td>1</td>\n",
              "      <td>0</td>\n",
              "      <td>0</td>\n",
              "      <td>(0, 0, 0)</td>\n",
              "      <td>0</td>\n",
              "    </tr>\n",
              "    <tr>\n",
              "      <th>8684</th>\n",
              "      <td>8684</td>\n",
              "      <td>2894</td>\n",
              "      <td>2</td>\n",
              "      <td>0</td>\n",
              "      <td>0</td>\n",
              "      <td>(0, 0, 0)</td>\n",
              "      <td>0</td>\n",
              "    </tr>\n",
              "    <tr>\n",
              "      <th>8685</th>\n",
              "      <td>8685</td>\n",
              "      <td>2895</td>\n",
              "      <td>0</td>\n",
              "      <td>0</td>\n",
              "      <td>0</td>\n",
              "      <td>(0, 0, 0)</td>\n",
              "      <td>0</td>\n",
              "    </tr>\n",
              "    <tr>\n",
              "      <th>8686</th>\n",
              "      <td>8686</td>\n",
              "      <td>2895</td>\n",
              "      <td>1</td>\n",
              "      <td>0</td>\n",
              "      <td>0</td>\n",
              "      <td>(0, 0, 0)</td>\n",
              "      <td>0</td>\n",
              "    </tr>\n",
              "    <tr>\n",
              "      <th>8687</th>\n",
              "      <td>8687</td>\n",
              "      <td>2895</td>\n",
              "      <td>2</td>\n",
              "      <td>0</td>\n",
              "      <td>0</td>\n",
              "      <td>(0, 0, 0)</td>\n",
              "      <td>0</td>\n",
              "    </tr>\n",
              "    <tr>\n",
              "      <th>8688</th>\n",
              "      <td>8688</td>\n",
              "      <td>2896</td>\n",
              "      <td>0</td>\n",
              "      <td>0</td>\n",
              "      <td>0</td>\n",
              "      <td>(0, 0, 0)</td>\n",
              "      <td>0</td>\n",
              "    </tr>\n",
              "    <tr>\n",
              "      <th>8689</th>\n",
              "      <td>8689</td>\n",
              "      <td>2896</td>\n",
              "      <td>1</td>\n",
              "      <td>0</td>\n",
              "      <td>0</td>\n",
              "      <td>(0, 0, 0)</td>\n",
              "      <td>0</td>\n",
              "    </tr>\n",
              "    <tr>\n",
              "      <th>8690</th>\n",
              "      <td>8690</td>\n",
              "      <td>2896</td>\n",
              "      <td>2</td>\n",
              "      <td>0</td>\n",
              "      <td>0</td>\n",
              "      <td>(0, 0, 0)</td>\n",
              "      <td>0</td>\n",
              "    </tr>\n",
              "    <tr>\n",
              "      <th>8691</th>\n",
              "      <td>8691</td>\n",
              "      <td>2897</td>\n",
              "      <td>0</td>\n",
              "      <td>0</td>\n",
              "      <td>0</td>\n",
              "      <td>(0, 0, 0)</td>\n",
              "      <td>0</td>\n",
              "    </tr>\n",
              "    <tr>\n",
              "      <th>8692</th>\n",
              "      <td>8692</td>\n",
              "      <td>2897</td>\n",
              "      <td>1</td>\n",
              "      <td>0</td>\n",
              "      <td>0</td>\n",
              "      <td>(0, 0, 0)</td>\n",
              "      <td>0</td>\n",
              "    </tr>\n",
              "    <tr>\n",
              "      <th>8693</th>\n",
              "      <td>8693</td>\n",
              "      <td>2897</td>\n",
              "      <td>2</td>\n",
              "      <td>0</td>\n",
              "      <td>0</td>\n",
              "      <td>(0, 0, 0)</td>\n",
              "      <td>0</td>\n",
              "    </tr>\n",
              "    <tr>\n",
              "      <th>8694</th>\n",
              "      <td>8694</td>\n",
              "      <td>2898</td>\n",
              "      <td>0</td>\n",
              "      <td>0</td>\n",
              "      <td>0</td>\n",
              "      <td>(0, 0, 0)</td>\n",
              "      <td>0</td>\n",
              "    </tr>\n",
              "    <tr>\n",
              "      <th>8695</th>\n",
              "      <td>8695</td>\n",
              "      <td>2898</td>\n",
              "      <td>1</td>\n",
              "      <td>0</td>\n",
              "      <td>0</td>\n",
              "      <td>(0, 0, 0)</td>\n",
              "      <td>0</td>\n",
              "    </tr>\n",
              "    <tr>\n",
              "      <th>8696</th>\n",
              "      <td>8696</td>\n",
              "      <td>2898</td>\n",
              "      <td>2</td>\n",
              "      <td>0</td>\n",
              "      <td>0</td>\n",
              "      <td>(0, 0, 0)</td>\n",
              "      <td>0</td>\n",
              "    </tr>\n",
              "    <tr>\n",
              "      <th>8697</th>\n",
              "      <td>8697</td>\n",
              "      <td>2899</td>\n",
              "      <td>0</td>\n",
              "      <td>0</td>\n",
              "      <td>0</td>\n",
              "      <td>(0, 0, 0)</td>\n",
              "      <td>0</td>\n",
              "    </tr>\n",
              "    <tr>\n",
              "      <th>8698</th>\n",
              "      <td>8698</td>\n",
              "      <td>2899</td>\n",
              "      <td>1</td>\n",
              "      <td>0</td>\n",
              "      <td>0</td>\n",
              "      <td>(0, 0, 0)</td>\n",
              "      <td>0</td>\n",
              "    </tr>\n",
              "    <tr>\n",
              "      <th>8699</th>\n",
              "      <td>8699</td>\n",
              "      <td>2899</td>\n",
              "      <td>2</td>\n",
              "      <td>0</td>\n",
              "      <td>0</td>\n",
              "      <td>(0, 0, 0)</td>\n",
              "      <td>0</td>\n",
              "    </tr>\n",
              "    <tr>\n",
              "      <th>8700</th>\n",
              "      <td>8700</td>\n",
              "      <td>2900</td>\n",
              "      <td>0</td>\n",
              "      <td>0</td>\n",
              "      <td>0</td>\n",
              "      <td>(0, 0, 0)</td>\n",
              "      <td>0</td>\n",
              "    </tr>\n",
              "    <tr>\n",
              "      <th>8701</th>\n",
              "      <td>8701</td>\n",
              "      <td>2900</td>\n",
              "      <td>1</td>\n",
              "      <td>0</td>\n",
              "      <td>0</td>\n",
              "      <td>(0, 0, 0)</td>\n",
              "      <td>0</td>\n",
              "    </tr>\n",
              "    <tr>\n",
              "      <th>8702</th>\n",
              "      <td>8702</td>\n",
              "      <td>2900</td>\n",
              "      <td>2</td>\n",
              "      <td>0</td>\n",
              "      <td>0</td>\n",
              "      <td>(0, 0, 0)</td>\n",
              "      <td>0</td>\n",
              "    </tr>\n",
              "    <tr>\n",
              "      <th>8703</th>\n",
              "      <td>8703</td>\n",
              "      <td>2901</td>\n",
              "      <td>0</td>\n",
              "      <td>0</td>\n",
              "      <td>0</td>\n",
              "      <td>(0, 0, 0)</td>\n",
              "      <td>0</td>\n",
              "    </tr>\n",
              "    <tr>\n",
              "      <th>8704</th>\n",
              "      <td>8704</td>\n",
              "      <td>2901</td>\n",
              "      <td>1</td>\n",
              "      <td>0</td>\n",
              "      <td>0</td>\n",
              "      <td>(0, 0, 0)</td>\n",
              "      <td>0</td>\n",
              "    </tr>\n",
              "    <tr>\n",
              "      <th>8705</th>\n",
              "      <td>8705</td>\n",
              "      <td>2901</td>\n",
              "      <td>2</td>\n",
              "      <td>0</td>\n",
              "      <td>0</td>\n",
              "      <td>(0, 0, 0)</td>\n",
              "      <td>0</td>\n",
              "    </tr>\n",
              "    <tr>\n",
              "      <th>8706</th>\n",
              "      <td>8706</td>\n",
              "      <td>2902</td>\n",
              "      <td>0</td>\n",
              "      <td>0</td>\n",
              "      <td>0</td>\n",
              "      <td>(0, 0, 0)</td>\n",
              "      <td>0</td>\n",
              "    </tr>\n",
              "    <tr>\n",
              "      <th>8707</th>\n",
              "      <td>8707</td>\n",
              "      <td>2902</td>\n",
              "      <td>1</td>\n",
              "      <td>0</td>\n",
              "      <td>0</td>\n",
              "      <td>(0, 0, 0)</td>\n",
              "      <td>0</td>\n",
              "    </tr>\n",
              "    <tr>\n",
              "      <th>8708</th>\n",
              "      <td>8708</td>\n",
              "      <td>2902</td>\n",
              "      <td>2</td>\n",
              "      <td>0</td>\n",
              "      <td>0</td>\n",
              "      <td>(0, 0, 0)</td>\n",
              "      <td>0</td>\n",
              "    </tr>\n",
              "    <tr>\n",
              "      <th>8709</th>\n",
              "      <td>8709</td>\n",
              "      <td>2903</td>\n",
              "      <td>0</td>\n",
              "      <td>0</td>\n",
              "      <td>0</td>\n",
              "      <td>(0, 0, 0)</td>\n",
              "      <td>0</td>\n",
              "    </tr>\n",
              "    <tr>\n",
              "      <th>8710</th>\n",
              "      <td>8710</td>\n",
              "      <td>2903</td>\n",
              "      <td>1</td>\n",
              "      <td>0</td>\n",
              "      <td>0</td>\n",
              "      <td>(0, 0, 0)</td>\n",
              "      <td>0</td>\n",
              "    </tr>\n",
              "    <tr>\n",
              "      <th>8711</th>\n",
              "      <td>8711</td>\n",
              "      <td>2903</td>\n",
              "      <td>2</td>\n",
              "      <td>0</td>\n",
              "      <td>0</td>\n",
              "      <td>(0, 0, 0)</td>\n",
              "      <td>0</td>\n",
              "    </tr>\n",
              "  </tbody>\n",
              "</table>\n",
              "<p>8712 rows × 7 columns</p>\n",
              "</div>"
            ],
            "text/plain": [
              "      signal_id  id_measurement  phase  target  re_target target_tuple  \\\n",
              "0             0               0      0       0          0    (0, 0, 0)   \n",
              "1             1               0      1       0          0    (0, 0, 0)   \n",
              "2             2               0      2       0          0    (0, 0, 0)   \n",
              "3             3               1      0       1          3    (1, 1, 1)   \n",
              "4             4               1      1       1          3    (1, 1, 1)   \n",
              "5             5               1      2       1          3    (1, 1, 1)   \n",
              "6             6               2      0       0          0    (0, 0, 0)   \n",
              "7             7               2      1       0          0    (0, 0, 0)   \n",
              "8             8               2      2       0          0    (0, 0, 0)   \n",
              "9             9               3      0       0          0    (0, 0, 0)   \n",
              "10           10               3      1       0          0    (0, 0, 0)   \n",
              "11           11               3      2       0          0    (0, 0, 0)   \n",
              "12           12               4      0       0          0    (0, 0, 0)   \n",
              "13           13               4      1       0          0    (0, 0, 0)   \n",
              "14           14               4      2       0          0    (0, 0, 0)   \n",
              "15           15               5      0       0          0    (0, 0, 0)   \n",
              "16           16               5      1       0          0    (0, 0, 0)   \n",
              "17           17               5      2       0          0    (0, 0, 0)   \n",
              "18           18               6      0       0          0    (0, 0, 0)   \n",
              "19           19               6      1       0          0    (0, 0, 0)   \n",
              "20           20               6      2       0          0    (0, 0, 0)   \n",
              "21           21               7      0       0          0    (0, 0, 0)   \n",
              "22           22               7      1       0          0    (0, 0, 0)   \n",
              "23           23               7      2       0          0    (0, 0, 0)   \n",
              "24           24               8      0       0          0    (0, 0, 0)   \n",
              "25           25               8      1       0          0    (0, 0, 0)   \n",
              "26           26               8      2       0          0    (0, 0, 0)   \n",
              "27           27               9      0       0          0    (0, 0, 0)   \n",
              "28           28               9      1       0          0    (0, 0, 0)   \n",
              "29           29               9      2       0          0    (0, 0, 0)   \n",
              "...         ...             ...    ...     ...        ...          ...   \n",
              "8682       8682            2894      0       0          0    (0, 0, 0)   \n",
              "8683       8683            2894      1       0          0    (0, 0, 0)   \n",
              "8684       8684            2894      2       0          0    (0, 0, 0)   \n",
              "8685       8685            2895      0       0          0    (0, 0, 0)   \n",
              "8686       8686            2895      1       0          0    (0, 0, 0)   \n",
              "8687       8687            2895      2       0          0    (0, 0, 0)   \n",
              "8688       8688            2896      0       0          0    (0, 0, 0)   \n",
              "8689       8689            2896      1       0          0    (0, 0, 0)   \n",
              "8690       8690            2896      2       0          0    (0, 0, 0)   \n",
              "8691       8691            2897      0       0          0    (0, 0, 0)   \n",
              "8692       8692            2897      1       0          0    (0, 0, 0)   \n",
              "8693       8693            2897      2       0          0    (0, 0, 0)   \n",
              "8694       8694            2898      0       0          0    (0, 0, 0)   \n",
              "8695       8695            2898      1       0          0    (0, 0, 0)   \n",
              "8696       8696            2898      2       0          0    (0, 0, 0)   \n",
              "8697       8697            2899      0       0          0    (0, 0, 0)   \n",
              "8698       8698            2899      1       0          0    (0, 0, 0)   \n",
              "8699       8699            2899      2       0          0    (0, 0, 0)   \n",
              "8700       8700            2900      0       0          0    (0, 0, 0)   \n",
              "8701       8701            2900      1       0          0    (0, 0, 0)   \n",
              "8702       8702            2900      2       0          0    (0, 0, 0)   \n",
              "8703       8703            2901      0       0          0    (0, 0, 0)   \n",
              "8704       8704            2901      1       0          0    (0, 0, 0)   \n",
              "8705       8705            2901      2       0          0    (0, 0, 0)   \n",
              "8706       8706            2902      0       0          0    (0, 0, 0)   \n",
              "8707       8707            2902      1       0          0    (0, 0, 0)   \n",
              "8708       8708            2902      2       0          0    (0, 0, 0)   \n",
              "8709       8709            2903      0       0          0    (0, 0, 0)   \n",
              "8710       8710            2903      1       0          0    (0, 0, 0)   \n",
              "8711       8711            2903      2       0          0    (0, 0, 0)   \n",
              "\n",
              "      categorical  \n",
              "0               0  \n",
              "1               0  \n",
              "2               0  \n",
              "3               7  \n",
              "4               7  \n",
              "5               7  \n",
              "6               0  \n",
              "7               0  \n",
              "8               0  \n",
              "9               0  \n",
              "10              0  \n",
              "11              0  \n",
              "12              0  \n",
              "13              0  \n",
              "14              0  \n",
              "15              0  \n",
              "16              0  \n",
              "17              0  \n",
              "18              0  \n",
              "19              0  \n",
              "20              0  \n",
              "21              0  \n",
              "22              0  \n",
              "23              0  \n",
              "24              0  \n",
              "25              0  \n",
              "26              0  \n",
              "27              0  \n",
              "28              0  \n",
              "29              0  \n",
              "...           ...  \n",
              "8682            0  \n",
              "8683            0  \n",
              "8684            0  \n",
              "8685            0  \n",
              "8686            0  \n",
              "8687            0  \n",
              "8688            0  \n",
              "8689            0  \n",
              "8690            0  \n",
              "8691            0  \n",
              "8692            0  \n",
              "8693            0  \n",
              "8694            0  \n",
              "8695            0  \n",
              "8696            0  \n",
              "8697            0  \n",
              "8698            0  \n",
              "8699            0  \n",
              "8700            0  \n",
              "8701            0  \n",
              "8702            0  \n",
              "8703            0  \n",
              "8704            0  \n",
              "8705            0  \n",
              "8706            0  \n",
              "8707            0  \n",
              "8708            0  \n",
              "8709            0  \n",
              "8710            0  \n",
              "8711            0  \n",
              "\n",
              "[8712 rows x 7 columns]"
            ]
          },
          "metadata": {
            "tags": []
          },
          "execution_count": 76
        }
      ]
    },
    {
      "metadata": {
        "id": "la4NYkA7BHPJ",
        "colab_type": "code",
        "colab": {}
      },
      "cell_type": "code",
      "source": [
        "train_df.to_csv(src+'new_train.csv', index=False)"
      ],
      "execution_count": 0,
      "outputs": []
    },
    {
      "metadata": {
        "id": "Oowy_3n_AuQD",
        "colab_type": "code",
        "outputId": "c2cf122c-ecc2-4613-c0fd-1c890477e42a",
        "colab": {
          "base_uri": "https://localhost:8080/",
          "height": 176
        }
      },
      "cell_type": "code",
      "source": [
        "train_df['categorical'].value_counts()"
      ],
      "execution_count": 0,
      "outputs": [
        {
          "output_type": "execute_result",
          "data": {
            "text/plain": [
              "0    8130\n",
              "7     468\n",
              "1      36\n",
              "5      30\n",
              "6      18\n",
              "4      18\n",
              "3       9\n",
              "2       3\n",
              "Name: categorical, dtype: int64"
            ]
          },
          "metadata": {
            "tags": []
          },
          "execution_count": 72
        }
      ]
    },
    {
      "metadata": {
        "id": "SlgW8T8wc6On",
        "colab_type": "code",
        "colab": {}
      },
      "cell_type": "code",
      "source": [
        ""
      ],
      "execution_count": 0,
      "outputs": []
    },
    {
      "metadata": {
        "id": "OO5LzW1SDgw2",
        "colab_type": "code",
        "colab": {}
      },
      "cell_type": "code",
      "source": [
        "choose=[i for i in range(8712) if i%3 ==0]\n"
      ],
      "execution_count": 0,
      "outputs": []
    },
    {
      "metadata": {
        "id": "m6d8Xm6gx7A8",
        "colab_type": "code",
        "outputId": "2bae0827-8c3a-4ad5-8b3a-79c2be7d8425",
        "colab": {
          "base_uri": "https://localhost:8080/",
          "height": 1906
        }
      },
      "cell_type": "code",
      "source": [
        "id_label = train_df.loc[choose,['id_measurement','categorical']]\n",
        "id_label"
      ],
      "execution_count": 0,
      "outputs": [
        {
          "output_type": "execute_result",
          "data": {
            "text/html": [
              "<div>\n",
              "<style scoped>\n",
              "    .dataframe tbody tr th:only-of-type {\n",
              "        vertical-align: middle;\n",
              "    }\n",
              "\n",
              "    .dataframe tbody tr th {\n",
              "        vertical-align: top;\n",
              "    }\n",
              "\n",
              "    .dataframe thead th {\n",
              "        text-align: right;\n",
              "    }\n",
              "</style>\n",
              "<table border=\"1\" class=\"dataframe\">\n",
              "  <thead>\n",
              "    <tr style=\"text-align: right;\">\n",
              "      <th></th>\n",
              "      <th>id_measurement</th>\n",
              "      <th>categorical</th>\n",
              "    </tr>\n",
              "  </thead>\n",
              "  <tbody>\n",
              "    <tr>\n",
              "      <th>0</th>\n",
              "      <td>0</td>\n",
              "      <td>0</td>\n",
              "    </tr>\n",
              "    <tr>\n",
              "      <th>3</th>\n",
              "      <td>1</td>\n",
              "      <td>7</td>\n",
              "    </tr>\n",
              "    <tr>\n",
              "      <th>6</th>\n",
              "      <td>2</td>\n",
              "      <td>0</td>\n",
              "    </tr>\n",
              "    <tr>\n",
              "      <th>9</th>\n",
              "      <td>3</td>\n",
              "      <td>0</td>\n",
              "    </tr>\n",
              "    <tr>\n",
              "      <th>12</th>\n",
              "      <td>4</td>\n",
              "      <td>0</td>\n",
              "    </tr>\n",
              "    <tr>\n",
              "      <th>15</th>\n",
              "      <td>5</td>\n",
              "      <td>0</td>\n",
              "    </tr>\n",
              "    <tr>\n",
              "      <th>18</th>\n",
              "      <td>6</td>\n",
              "      <td>0</td>\n",
              "    </tr>\n",
              "    <tr>\n",
              "      <th>21</th>\n",
              "      <td>7</td>\n",
              "      <td>0</td>\n",
              "    </tr>\n",
              "    <tr>\n",
              "      <th>24</th>\n",
              "      <td>8</td>\n",
              "      <td>0</td>\n",
              "    </tr>\n",
              "    <tr>\n",
              "      <th>27</th>\n",
              "      <td>9</td>\n",
              "      <td>0</td>\n",
              "    </tr>\n",
              "    <tr>\n",
              "      <th>30</th>\n",
              "      <td>10</td>\n",
              "      <td>0</td>\n",
              "    </tr>\n",
              "    <tr>\n",
              "      <th>33</th>\n",
              "      <td>11</td>\n",
              "      <td>0</td>\n",
              "    </tr>\n",
              "    <tr>\n",
              "      <th>36</th>\n",
              "      <td>12</td>\n",
              "      <td>0</td>\n",
              "    </tr>\n",
              "    <tr>\n",
              "      <th>39</th>\n",
              "      <td>13</td>\n",
              "      <td>0</td>\n",
              "    </tr>\n",
              "    <tr>\n",
              "      <th>42</th>\n",
              "      <td>14</td>\n",
              "      <td>0</td>\n",
              "    </tr>\n",
              "    <tr>\n",
              "      <th>45</th>\n",
              "      <td>15</td>\n",
              "      <td>0</td>\n",
              "    </tr>\n",
              "    <tr>\n",
              "      <th>48</th>\n",
              "      <td>16</td>\n",
              "      <td>0</td>\n",
              "    </tr>\n",
              "    <tr>\n",
              "      <th>51</th>\n",
              "      <td>17</td>\n",
              "      <td>0</td>\n",
              "    </tr>\n",
              "    <tr>\n",
              "      <th>54</th>\n",
              "      <td>18</td>\n",
              "      <td>0</td>\n",
              "    </tr>\n",
              "    <tr>\n",
              "      <th>57</th>\n",
              "      <td>19</td>\n",
              "      <td>0</td>\n",
              "    </tr>\n",
              "    <tr>\n",
              "      <th>60</th>\n",
              "      <td>20</td>\n",
              "      <td>0</td>\n",
              "    </tr>\n",
              "    <tr>\n",
              "      <th>63</th>\n",
              "      <td>21</td>\n",
              "      <td>0</td>\n",
              "    </tr>\n",
              "    <tr>\n",
              "      <th>66</th>\n",
              "      <td>22</td>\n",
              "      <td>0</td>\n",
              "    </tr>\n",
              "    <tr>\n",
              "      <th>69</th>\n",
              "      <td>23</td>\n",
              "      <td>0</td>\n",
              "    </tr>\n",
              "    <tr>\n",
              "      <th>72</th>\n",
              "      <td>24</td>\n",
              "      <td>0</td>\n",
              "    </tr>\n",
              "    <tr>\n",
              "      <th>75</th>\n",
              "      <td>25</td>\n",
              "      <td>0</td>\n",
              "    </tr>\n",
              "    <tr>\n",
              "      <th>78</th>\n",
              "      <td>26</td>\n",
              "      <td>0</td>\n",
              "    </tr>\n",
              "    <tr>\n",
              "      <th>81</th>\n",
              "      <td>27</td>\n",
              "      <td>0</td>\n",
              "    </tr>\n",
              "    <tr>\n",
              "      <th>84</th>\n",
              "      <td>28</td>\n",
              "      <td>0</td>\n",
              "    </tr>\n",
              "    <tr>\n",
              "      <th>87</th>\n",
              "      <td>29</td>\n",
              "      <td>0</td>\n",
              "    </tr>\n",
              "    <tr>\n",
              "      <th>...</th>\n",
              "      <td>...</td>\n",
              "      <td>...</td>\n",
              "    </tr>\n",
              "    <tr>\n",
              "      <th>8622</th>\n",
              "      <td>2874</td>\n",
              "      <td>0</td>\n",
              "    </tr>\n",
              "    <tr>\n",
              "      <th>8625</th>\n",
              "      <td>2875</td>\n",
              "      <td>0</td>\n",
              "    </tr>\n",
              "    <tr>\n",
              "      <th>8628</th>\n",
              "      <td>2876</td>\n",
              "      <td>1</td>\n",
              "    </tr>\n",
              "    <tr>\n",
              "      <th>8631</th>\n",
              "      <td>2877</td>\n",
              "      <td>0</td>\n",
              "    </tr>\n",
              "    <tr>\n",
              "      <th>8634</th>\n",
              "      <td>2878</td>\n",
              "      <td>0</td>\n",
              "    </tr>\n",
              "    <tr>\n",
              "      <th>8637</th>\n",
              "      <td>2879</td>\n",
              "      <td>0</td>\n",
              "    </tr>\n",
              "    <tr>\n",
              "      <th>8640</th>\n",
              "      <td>2880</td>\n",
              "      <td>0</td>\n",
              "    </tr>\n",
              "    <tr>\n",
              "      <th>8643</th>\n",
              "      <td>2881</td>\n",
              "      <td>0</td>\n",
              "    </tr>\n",
              "    <tr>\n",
              "      <th>8646</th>\n",
              "      <td>2882</td>\n",
              "      <td>0</td>\n",
              "    </tr>\n",
              "    <tr>\n",
              "      <th>8649</th>\n",
              "      <td>2883</td>\n",
              "      <td>0</td>\n",
              "    </tr>\n",
              "    <tr>\n",
              "      <th>8652</th>\n",
              "      <td>2884</td>\n",
              "      <td>0</td>\n",
              "    </tr>\n",
              "    <tr>\n",
              "      <th>8655</th>\n",
              "      <td>2885</td>\n",
              "      <td>0</td>\n",
              "    </tr>\n",
              "    <tr>\n",
              "      <th>8658</th>\n",
              "      <td>2886</td>\n",
              "      <td>0</td>\n",
              "    </tr>\n",
              "    <tr>\n",
              "      <th>8661</th>\n",
              "      <td>2887</td>\n",
              "      <td>0</td>\n",
              "    </tr>\n",
              "    <tr>\n",
              "      <th>8664</th>\n",
              "      <td>2888</td>\n",
              "      <td>0</td>\n",
              "    </tr>\n",
              "    <tr>\n",
              "      <th>8667</th>\n",
              "      <td>2889</td>\n",
              "      <td>0</td>\n",
              "    </tr>\n",
              "    <tr>\n",
              "      <th>8670</th>\n",
              "      <td>2890</td>\n",
              "      <td>0</td>\n",
              "    </tr>\n",
              "    <tr>\n",
              "      <th>8673</th>\n",
              "      <td>2891</td>\n",
              "      <td>0</td>\n",
              "    </tr>\n",
              "    <tr>\n",
              "      <th>8676</th>\n",
              "      <td>2892</td>\n",
              "      <td>0</td>\n",
              "    </tr>\n",
              "    <tr>\n",
              "      <th>8679</th>\n",
              "      <td>2893</td>\n",
              "      <td>0</td>\n",
              "    </tr>\n",
              "    <tr>\n",
              "      <th>8682</th>\n",
              "      <td>2894</td>\n",
              "      <td>0</td>\n",
              "    </tr>\n",
              "    <tr>\n",
              "      <th>8685</th>\n",
              "      <td>2895</td>\n",
              "      <td>0</td>\n",
              "    </tr>\n",
              "    <tr>\n",
              "      <th>8688</th>\n",
              "      <td>2896</td>\n",
              "      <td>0</td>\n",
              "    </tr>\n",
              "    <tr>\n",
              "      <th>8691</th>\n",
              "      <td>2897</td>\n",
              "      <td>0</td>\n",
              "    </tr>\n",
              "    <tr>\n",
              "      <th>8694</th>\n",
              "      <td>2898</td>\n",
              "      <td>0</td>\n",
              "    </tr>\n",
              "    <tr>\n",
              "      <th>8697</th>\n",
              "      <td>2899</td>\n",
              "      <td>0</td>\n",
              "    </tr>\n",
              "    <tr>\n",
              "      <th>8700</th>\n",
              "      <td>2900</td>\n",
              "      <td>0</td>\n",
              "    </tr>\n",
              "    <tr>\n",
              "      <th>8703</th>\n",
              "      <td>2901</td>\n",
              "      <td>0</td>\n",
              "    </tr>\n",
              "    <tr>\n",
              "      <th>8706</th>\n",
              "      <td>2902</td>\n",
              "      <td>0</td>\n",
              "    </tr>\n",
              "    <tr>\n",
              "      <th>8709</th>\n",
              "      <td>2903</td>\n",
              "      <td>0</td>\n",
              "    </tr>\n",
              "  </tbody>\n",
              "</table>\n",
              "<p>2904 rows × 2 columns</p>\n",
              "</div>"
            ],
            "text/plain": [
              "      id_measurement  categorical\n",
              "0                  0            0\n",
              "3                  1            7\n",
              "6                  2            0\n",
              "9                  3            0\n",
              "12                 4            0\n",
              "15                 5            0\n",
              "18                 6            0\n",
              "21                 7            0\n",
              "24                 8            0\n",
              "27                 9            0\n",
              "30                10            0\n",
              "33                11            0\n",
              "36                12            0\n",
              "39                13            0\n",
              "42                14            0\n",
              "45                15            0\n",
              "48                16            0\n",
              "51                17            0\n",
              "54                18            0\n",
              "57                19            0\n",
              "60                20            0\n",
              "63                21            0\n",
              "66                22            0\n",
              "69                23            0\n",
              "72                24            0\n",
              "75                25            0\n",
              "78                26            0\n",
              "81                27            0\n",
              "84                28            0\n",
              "87                29            0\n",
              "...              ...          ...\n",
              "8622            2874            0\n",
              "8625            2875            0\n",
              "8628            2876            1\n",
              "8631            2877            0\n",
              "8634            2878            0\n",
              "8637            2879            0\n",
              "8640            2880            0\n",
              "8643            2881            0\n",
              "8646            2882            0\n",
              "8649            2883            0\n",
              "8652            2884            0\n",
              "8655            2885            0\n",
              "8658            2886            0\n",
              "8661            2887            0\n",
              "8664            2888            0\n",
              "8667            2889            0\n",
              "8670            2890            0\n",
              "8673            2891            0\n",
              "8676            2892            0\n",
              "8679            2893            0\n",
              "8682            2894            0\n",
              "8685            2895            0\n",
              "8688            2896            0\n",
              "8691            2897            0\n",
              "8694            2898            0\n",
              "8697            2899            0\n",
              "8700            2900            0\n",
              "8703            2901            0\n",
              "8706            2902            0\n",
              "8709            2903            0\n",
              "\n",
              "[2904 rows x 2 columns]"
            ]
          },
          "metadata": {
            "tags": []
          },
          "execution_count": 81
        }
      ]
    },
    {
      "metadata": {
        "id": "pK_pucg561RC",
        "colab_type": "code",
        "colab": {}
      },
      "cell_type": "code",
      "source": [
        "id_label.to_csv(src+'id_label.csv',index=False)"
      ],
      "execution_count": 0,
      "outputs": []
    },
    {
      "metadata": {
        "id": "GYt4Vzf_dAlU",
        "colab_type": "code",
        "colab": {}
      },
      "cell_type": "code",
      "source": [
        "df = pd.read_csv(src+'id_label.csv')\n",
        "train_list = [0,1,2,3,4,5,6,7]\n",
        "non_valid_list = [2,3]\n",
        "def select_dict():\n",
        "    select={}\n",
        "    \n",
        "    for i in train_list: \n",
        "        if i not in non_valid_list:\n",
        "            label = df.loc[df['categorical']==i,'id_measurement'].tolist()\n",
        "            label_valid =  list(np.random.choice(label, int(len(label)*0.2)))\n",
        "            \n",
        "            label_train = [i for i in label if i not in label_valid]\n",
        "            \n",
        "            \n",
        "            \n",
        "            select[str(i)] = [label_train,label_valid]\n",
        "            \n",
        "        else:\n",
        "            label = df.loc[df['categorical']==i,'id_measurement'].tolist()\n",
        "            label_valid =  list(np.random.choice(label, int(len(label)*0.2)))\n",
        "            \n",
        "            label_train = [i for i in label if i not in label_valid]\n",
        "            \n",
        "            select[str(i)] = [label]\n",
        "            \n",
        "            \n",
        "    return select\n",
        "\n",
        "select= select_dict()\n",
        "\n",
        "with open (src+'select.pkl','wb') as handle:\n",
        "    pcikle.dump(select,handle)"
      ],
      "execution_count": 0,
      "outputs": []
    },
    {
      "metadata": {
        "id": "h6Bn3d1NZzTz",
        "colab_type": "code",
        "outputId": "97d12672-bb16-46bc-a17f-3625157be526",
        "colab": {
          "base_uri": "https://localhost:8080/",
          "height": 34
        }
      },
      "cell_type": "code",
      "source": [
        "id_list = np.unique(train_df['id_measurement'].tolist())\n",
        "id_list"
      ],
      "execution_count": 0,
      "outputs": [
        {
          "output_type": "execute_result",
          "data": {
            "text/plain": [
              "array([   0,    1,    2, ..., 2901, 2902, 2903])"
            ]
          },
          "metadata": {
            "tags": []
          },
          "execution_count": 13
        }
      ]
    },
    {
      "metadata": {
        "id": "nxCqR92HmYPZ",
        "colab_type": "code",
        "outputId": "8a130d30-9df2-41c9-bce0-6c9ab6252d8c",
        "colab": {
          "base_uri": "https://localhost:8080/",
          "height": 34
        }
      },
      "cell_type": "code",
      "source": [
        "idx_1 = train_df.loc[train_df['target']==1,'signal_id'].tolist()\n",
        "idx_0 = train_df.loc[train_df['target']==0,'signal_id'].tolist()\n",
        "\n",
        "print (len(idx_1)+len(idx_0))"
      ],
      "execution_count": 0,
      "outputs": [
        {
          "output_type": "stream",
          "text": [
            "8712\n"
          ],
          "name": "stdout"
        }
      ]
    },
    {
      "metadata": {
        "id": "ac_5DRIWr7pk",
        "colab_type": "code",
        "outputId": "e2058479-6ed4-4d75-e2a1-671846c93ad6",
        "colab": {
          "base_uri": "https://localhost:8080/",
          "height": 34
        }
      },
      "cell_type": "code",
      "source": [
        "test_ratio = 0.2\n",
        "valid_size_1 = int(525*test_ratio)\n",
        "valid_size_0 = int(8187 * test_ratio)\n",
        "\n",
        "print (valid_size_1, valid_size_0)"
      ],
      "execution_count": 0,
      "outputs": [
        {
          "output_type": "stream",
          "text": [
            "105 1637\n"
          ],
          "name": "stdout"
        }
      ]
    },
    {
      "metadata": {
        "id": "gRtwHnclsoQj",
        "colab_type": "code",
        "outputId": "add52a77-e768-4bd9-b92d-da9e7f9e4345",
        "colab": {
          "base_uri": "https://localhost:8080/",
          "height": 34
        }
      },
      "cell_type": "code",
      "source": [
        "valid_idx_1 = np.random.choice(idx_1, size= valid_size_1,replace=False)\n",
        "train_idx_1 = [i for i in idx_1 if i not in valid_idx_1]\n",
        "\n",
        "valid_idx_0 = np.random.choice(idx_0, size= valid_size_0,replace=False)\n",
        "train_idx_0 = [i for i in idx_0 if i not in valid_idx_0]\n",
        "\n",
        "print (len(valid_idx_1), len(train_idx_1) , len(valid_idx_0), len(train_idx_0))"
      ],
      "execution_count": 0,
      "outputs": [
        {
          "output_type": "stream",
          "text": [
            "105 420 1637 6550\n"
          ],
          "name": "stdout"
        }
      ]
    },
    {
      "metadata": {
        "id": "He2_pBU-uFra",
        "colab_type": "code",
        "colab": {}
      },
      "cell_type": "code",
      "source": [
        "def save_file_to(i):\n",
        "  if i in train_idx_1:\n",
        "    save_to = src_train_idx_1\n",
        "  elif i in train_idx_0:\n",
        "    save_to = src_train_idx_0\n",
        "  \n",
        "  elif i in valid_idx_1:\n",
        "    save_to = src_valid_idx_1\n",
        "\n",
        "  elif i in valid_idx_0:\n",
        "    save_to = src_valid_idx_0\n",
        "    \n",
        "  else:\n",
        "    print (f'i = {i},   something wrong')\n",
        "    \n",
        "  return save_to "
      ],
      "execution_count": 0,
      "outputs": []
    },
    {
      "metadata": {
        "id": "leeniSj21m5e",
        "colab_type": "code",
        "colab": {}
      },
      "cell_type": "code",
      "source": [
        "\n",
        "\n",
        "\n",
        "def sample(signal, kernel_size):\n",
        "  sampled = np.zeros((signal.shape[0],  signal.shape[1]//kernel_size))\n",
        "  print ('sampledshape',sampled.shape)\n",
        "  for i in range(signal.shape[1]//kernel_size):\n",
        "    begin = kernel_size * i\n",
        "    #print (f'begin = {begin}')\n",
        "    end = min(kernel_size * (i + 1), signal.shape[1])\n",
        "    #print (f'end = {end}')\n",
        "    sampled[:,  i] = np.mean(signal[:,  begin:end], axis=1)\n",
        "    #print (f'from begin {begin } to end {end} mean value {sampled[:, :, i] } selected ')\n",
        "  return sampled\n"
      ],
      "execution_count": 0,
      "outputs": []
    },
    {
      "metadata": {
        "id": "4snpK6Ui1nEW",
        "colab_type": "code",
        "colab": {}
      },
      "cell_type": "code",
      "source": [
        "\n",
        "def signals_to_img(fname,window=100):\n",
        "\n",
        "  #plt.imshow(FNAME)\n",
        "  #plt.show()\n",
        "  img = Image.open(fname).convert('RGB')\n",
        "  #print (img.size)\n",
        "  #img = img.resize((750,500))\n",
        "  x = np.array(img)\n",
        "  #print (x.shape)\n",
        "\n",
        "  img.save(fname)\n"
      ],
      "execution_count": 0,
      "outputs": []
    },
    {
      "metadata": {
        "id": "lUj2mWEj1nM6",
        "colab_type": "code",
        "colab": {}
      },
      "cell_type": "code",
      "source": [
        "\n",
        "def make_fig(j,sampled):\n",
        "\n",
        "  length = sampled.shape[0]\n",
        "\n",
        "\n",
        "  for i in range(length):\n",
        "    \n",
        "    idx = i+j*72\n",
        "    save_to = save_file_to(idx)\n",
        "\n",
        "\n",
        "    fig = plt.figure(figsize=(8, 4))\n",
        "    \n",
        "\n",
        "\n",
        "    plt.xticks([])\n",
        "    plt.yticks([])\n",
        "    \n",
        "    sns.despine(bottom=True, left=True)\n",
        "    plt.plot(sampled[i, :],color='r')\n",
        "    #plt.plot(sampled[i*11, :], label='Phase 1')\n",
        "    #plt.plot(sampled[i*11, :], label='Phase 2')\n",
        "    #plt.legend()\n",
        "    #print ('j=', j, 'i=',i, 'save_to =', save_to)\n",
        "    fname = save_to+'signal_img_'+str(i+j*72)+'.png'\n",
        "    plt.savefig(fname, format='png')\n",
        "    plt.close(fig)\n",
        "    signals_to_img(fname)\n",
        "    fig.clf()\n",
        "\n",
        "    #plt.despine(left=True,bottom=True)\n",
        "    #plt.show()"
      ],
      "execution_count": 0,
      "outputs": []
    },
    {
      "metadata": {
        "id": "D7A5NUInh2II",
        "colab_type": "code",
        "outputId": "1f195e49-e29e-4fd6-bd80-e27433091f4b",
        "colab": {
          "base_uri": "https://localhost:8080/",
          "height": 354
        }
      },
      "cell_type": "code",
      "source": [
        "\n",
        "#train_df = pq.read_pandas('train.parquet').to_pandas()\n",
        "\n",
        "for j in range(121):\n",
        "  \n",
        "  subset_train = pq.read_pandas('train.parquet', columns=[str(i+j*72) for i in range(72)]).to_pandas()\n",
        "  \n",
        "  subset_value = np.array(signals).T.reshape((72//3, 3, 800000))\n",
        "  \n",
        "\n",
        "  print (subset_value.shape)\n",
        "  #sampled = sample(subset_value,100)\n",
        " \n",
        "  make_fig(j,subset_value)\n",
        "  if j % 3 == 0:\n",
        "    \n",
        "    print (f'batch {j} /18 ok ')\n",
        "  \n",
        "print ('total complted')"
      ],
      "execution_count": 0,
      "outputs": [
        {
          "output_type": "stream",
          "text": [
            "(484, 800000)\n",
            "sampledshape (484, 8000)\n",
            "(484, 800000)\n",
            "sampledshape (484, 8000)\n",
            "(484, 800000)\n",
            "sampledshape (484, 8000)\n",
            "batch 12 /18 ok \n",
            "(484, 800000)\n",
            "sampledshape (484, 8000)\n",
            "(484, 800000)\n",
            "sampledshape (484, 8000)\n",
            "(484, 800000)\n",
            "sampledshape (484, 8000)\n",
            "batch 15 /18 ok \n",
            "(484, 800000)\n",
            "sampledshape (484, 8000)\n",
            "(484, 800000)\n",
            "sampledshape (484, 8000)\n",
            "total complted\n"
          ],
          "name": "stdout"
        }
      ]
    },
    {
      "metadata": {
        "id": "Zn1KRAjMmEky",
        "colab_type": "code",
        "outputId": "363c5753-751e-4276-a2f4-0ab92de9d2f0",
        "colab": {
          "base_uri": "https://localhost:8080/",
          "height": 34
        }
      },
      "cell_type": "code",
      "source": [
        "import os\n",
        "len( os.listdir(src_train_idx_1)) + len( os.listdir(src_valid_idx_1))\n"
      ],
      "execution_count": 0,
      "outputs": [
        {
          "output_type": "execute_result",
          "data": {
            "text/plain": [
              "525"
            ]
          },
          "metadata": {
            "tags": []
          },
          "execution_count": 53
        }
      ]
    },
    {
      "metadata": {
        "id": "xaro_mF9LGAB",
        "colab_type": "code",
        "outputId": "6e69c41c-3c2d-43bf-e77f-a85bd1aaf6a6",
        "colab": {
          "base_uri": "https://localhost:8080/",
          "height": 34
        }
      },
      "cell_type": "code",
      "source": [
        "len( os.listdir(src_train_idx_0)) + len( os.listdir(src_valid_idx_0))\n"
      ],
      "execution_count": 0,
      "outputs": [
        {
          "output_type": "execute_result",
          "data": {
            "text/plain": [
              "8187"
            ]
          },
          "metadata": {
            "tags": []
          },
          "execution_count": 54
        }
      ]
    },
    {
      "metadata": {
        "id": "iMfRqhYOtELI",
        "colab_type": "code",
        "outputId": "88f6ac7d-866e-4276-cfa2-78d45c4c5e74",
        "colab": {
          "base_uri": "https://localhost:8080/",
          "height": 158
        }
      },
      "cell_type": "code",
      "source": [
        "os.listdir(src)"
      ],
      "execution_count": 0,
      "outputs": [
        {
          "output_type": "execute_result",
          "data": {
            "text/plain": [
              "['test.parquet',\n",
              " 'sample_submission.csv',\n",
              " 'metadata_test.csv',\n",
              " 'metadata_train.csv',\n",
              " 'train.parquet',\n",
              " 'all.zip',\n",
              " 'vsb_power_line_eda.ipynb',\n",
              " 'train_test_data']"
            ]
          },
          "metadata": {
            "tags": []
          },
          "execution_count": 55
        }
      ]
    },
    {
      "metadata": {
        "id": "SQi4DisAVQFG",
        "colab_type": "code",
        "colab": {}
      },
      "cell_type": "code",
      "source": [
        ""
      ],
      "execution_count": 0,
      "outputs": []
    },
    {
      "metadata": {
        "id": "2tlpi8YVVgyP",
        "colab_type": "text"
      },
      "cell_type": "markdown",
      "source": [
        "# Start preparing test data"
      ]
    },
    {
      "metadata": {
        "id": "-_Ij_fEaVk5b",
        "colab_type": "code",
        "colab": {}
      },
      "cell_type": "code",
      "source": [
        "!cp 'drive/My Drive/kaggle/vsb_power_line/data/test.parquet' ."
      ],
      "execution_count": 0,
      "outputs": []
    },
    {
      "metadata": {
        "id": "21A-XYxoVrLl",
        "colab_type": "code",
        "colab": {}
      },
      "cell_type": "code",
      "source": [
        "subset_train = pq.read_pandas('test.parquet', columns=[str(i) for i in range(99)]).to_pandas()\n",
        "test_df.shape"
      ],
      "execution_count": 0,
      "outputs": []
    },
    {
      "metadata": {
        "id": "ouxS3ywRV024",
        "colab_type": "code",
        "colab": {}
      },
      "cell_type": "code",
      "source": [
        "subset_test = pq.read_pandas('test.parquet', columns=[str(i*2000 + j + 8712) for j in range(2000)]).to_pandas()"
      ],
      "execution_count": 0,
      "outputs": []
    },
    {
      "metadata": {
        "id": "aQDYXQBxZIMK",
        "colab_type": "code",
        "colab": {}
      },
      "cell_type": "code",
      "source": [
        "def make_fig_test(j,sampled):\n",
        "\n",
        "  length = sampled.shape[0]\n",
        "\n",
        "\n",
        "  for i in range(length):\n",
        "    \n",
        "    idx = i+j*500+8712\n",
        "    save_to = src_test\n",
        "\n",
        "\n",
        "    fig = plt.figure(figsize=(8, 4))\n",
        "    \n",
        "\n",
        "\n",
        "    plt.xticks([])\n",
        "    plt.yticks([])\n",
        "    \n",
        "    sns.despine(bottom=True, left=True)\n",
        "    plt.plot(sampled[i, :],color='r')\n",
        "    #plt.plot(sampled[i*11, :], label='Phase 1')\n",
        "    #plt.plot(sampled[i*11, :], label='Phase 2')\n",
        "    #plt.legend()\n",
        "    #print ('j=', j, 'i=',i, 'save_to =', save_to)\n",
        "    fname = save_to+'signal_img_'+str(i+j*500 + 8712)+'.png'\n",
        "    plt.savefig(fname, format='png')\n",
        "    plt.close(fig)\n",
        "    signals_to_img(fname)\n",
        "    fig.clf()\n",
        "\n",
        "    #plt.despine(left=True,bottom=True)\n",
        "    #plt.show()"
      ],
      "execution_count": 0,
      "outputs": []
    },
    {
      "metadata": {
        "id": "slJiQwu0YaTd",
        "colab_type": "code",
        "outputId": "b95cb0b6-9545-4a9f-a349-5d11e51f8fde",
        "colab": {
          "base_uri": "https://localhost:8080/",
          "height": 603
        }
      },
      "cell_type": "code",
      "source": [
        "#train_df = pq.read_pandas('train.parquet').to_pandas()\n",
        "\n",
        "import os\n",
        "\n",
        "for j in range(30,40,1):\n",
        "  \n",
        "  subset_test = pq.read_pandas('test.parquet', columns=[str(i+j*500 + 8712) for i in range(500)]).to_pandas()\n",
        "  subset_value = np.array(subset_test.values).T\n",
        "  print (subset_value.shape)\n",
        "  sampled = sample(subset_value,100)\n",
        " \n",
        "  make_fig_test(j,sampled)\n",
        "  if j % 3 == 0:\n",
        "    \n",
        "    print (f'batch {j} /18 ok ')\n",
        "    \n",
        "    print ('j=',j, len(os.listdir(src_test)))\n",
        "    print (os.listdir(src_test)[-2:])\n",
        "  \n",
        "print ('total complted')"
      ],
      "execution_count": 0,
      "outputs": [
        {
          "output_type": "stream",
          "text": [
            "(500, 800000)\n",
            "sampledshape (500, 8000)\n",
            "batch 30 /18 ok \n",
            "j= 30 15500\n",
            "['signal_img_24210.png', 'signal_img_24211.png']\n",
            "(500, 800000)\n",
            "sampledshape (500, 8000)\n",
            "(500, 800000)\n",
            "sampledshape (500, 8000)\n",
            "(500, 800000)\n",
            "sampledshape (500, 8000)\n",
            "batch 33 /18 ok \n",
            "j= 33 17000\n",
            "['signal_img_25710.png', 'signal_img_25711.png']\n",
            "(500, 800000)\n",
            "sampledshape (500, 8000)\n",
            "(500, 800000)\n",
            "sampledshape (500, 8000)\n",
            "(500, 800000)\n",
            "sampledshape (500, 8000)\n",
            "batch 36 /18 ok \n",
            "j= 36 18500\n",
            "['signal_img_27210.png', 'signal_img_27211.png']\n",
            "(500, 800000)\n",
            "sampledshape (500, 8000)\n",
            "(500, 800000)\n",
            "sampledshape (500, 8000)\n",
            "(500, 800000)\n",
            "sampledshape (500, 8000)\n",
            "batch 39 /18 ok \n",
            "j= 39 20000\n",
            "['signal_img_28710.png', 'signal_img_28711.png']\n",
            "total complted\n"
          ],
          "name": "stdout"
        }
      ]
    },
    {
      "metadata": {
        "id": "b-1ulHO5ZmKQ",
        "colab_type": "code",
        "outputId": "407e7fd6-fb8a-4749-8e68-2b9d1b99116e",
        "colab": {
          "base_uri": "https://localhost:8080/",
          "height": 34
        }
      },
      "cell_type": "code",
      "source": [
        "import os\n",
        "len(os.listdir(src_test))"
      ],
      "execution_count": 0,
      "outputs": [
        {
          "output_type": "execute_result",
          "data": {
            "text/plain": [
              "20000"
            ]
          },
          "metadata": {
            "tags": []
          },
          "execution_count": 8
        }
      ]
    },
    {
      "metadata": {
        "id": "Hh5KrLqgjJx2",
        "colab_type": "code",
        "colab": {}
      },
      "cell_type": "code",
      "source": [
        "def make_fig_test(j,sampled):\n",
        "\n",
        "  length = sampled.shape[0]\n",
        "\n",
        "\n",
        "  for i in range(length):\n",
        "    \n",
        "    idx = i+j*20000+8712\n",
        "    save_to = src_test\n",
        "\n",
        "\n",
        "    fig = plt.figure(figsize=(8, 4))\n",
        "    \n",
        "\n",
        "\n",
        "    plt.xticks([])\n",
        "    plt.yticks([])\n",
        "    \n",
        "    sns.despine(bottom=True, left=True)\n",
        "    plt.plot(sampled[i, :],color='r')\n",
        "    #plt.plot(sampled[i*11, :], label='Phase 1')\n",
        "    #plt.plot(sampled[i*11, :], label='Phase 2')\n",
        "    #plt.legend()\n",
        "    #print ('j=', j, 'i=',i, 'save_to =', save_to)\n",
        "    fname = save_to+'signal_img_'+str(i+j*20000 + 8712)+'.png'\n",
        "    plt.savefig(fname, format='png')\n",
        "    plt.close(fig)\n",
        "    signals_to_img(fname)\n",
        "    fig.clf()\n",
        "\n",
        "    #plt.despine(left=True,bottom=True)\n",
        "    #plt.show()"
      ],
      "execution_count": 0,
      "outputs": []
    },
    {
      "metadata": {
        "id": "mGQkCZhFeUZD",
        "colab_type": "code",
        "outputId": "551d8ad1-7a15-4f46-ca5c-6e9c1285a38a",
        "colab": {
          "base_uri": "https://localhost:8080/",
          "height": 70
        }
      },
      "cell_type": "code",
      "source": [
        "#train_df = pq.read_pandas('train.parquet').to_pandas()\n",
        "\n",
        "for j in range(1,2,1):\n",
        "  \n",
        "  subset_test = pq.read_pandas('test.parquet', columns=[str(i+j*20000 + 8712) for i in range(337)]).to_pandas()\n",
        "  subset_value = np.array(subset_test.values).T\n",
        "  print (subset_value.shape)\n",
        "  sampled = sample(subset_value,100)\n",
        " \n",
        "  make_fig_test(j,sampled)\n",
        "  if j % 3 == 0:\n",
        "    \n",
        "    print (f'batch {j} /18 ok ')\n",
        "  \n",
        "print ('total complted')"
      ],
      "execution_count": 0,
      "outputs": [
        {
          "output_type": "stream",
          "text": [
            "(337, 800000)\n",
            "sampledshape (337, 8000)\n",
            "total complted\n"
          ],
          "name": "stdout"
        }
      ]
    },
    {
      "metadata": {
        "id": "46oKleSFN2E1",
        "colab_type": "code",
        "outputId": "2bf52a15-ac5f-4a8f-a563-8a658a46b15f",
        "colab": {
          "base_uri": "https://localhost:8080/",
          "height": 34
        }
      },
      "cell_type": "code",
      "source": [
        "import os\n",
        "len(os.listdir(src_test))"
      ],
      "execution_count": 0,
      "outputs": [
        {
          "output_type": "execute_result",
          "data": {
            "text/plain": [
              "20337"
            ]
          },
          "metadata": {
            "tags": []
          },
          "execution_count": 7
        }
      ]
    },
    {
      "metadata": {
        "id": "FvhNV4eTN5cd",
        "colab_type": "code",
        "colab": {}
      },
      "cell_type": "code",
      "source": [
        ""
      ],
      "execution_count": 0,
      "outputs": []
    },
    {
      "metadata": {
        "id": "1P4e2ePUN64o",
        "colab_type": "text"
      },
      "cell_type": "markdown",
      "source": [
        "# Test set completed"
      ]
    },
    {
      "metadata": {
        "id": "-22oEvfTN5k_",
        "colab_type": "code",
        "colab": {}
      },
      "cell_type": "code",
      "source": [
        ""
      ],
      "execution_count": 0,
      "outputs": []
    },
    {
      "metadata": {
        "id": "_y8HCbtWN5oT",
        "colab_type": "code",
        "colab": {}
      },
      "cell_type": "code",
      "source": [
        ""
      ],
      "execution_count": 0,
      "outputs": []
    },
    {
      "metadata": {
        "id": "w19Ee-KGN5sg",
        "colab_type": "code",
        "colab": {}
      },
      "cell_type": "code",
      "source": [
        ""
      ],
      "execution_count": 0,
      "outputs": []
    },
    {
      "metadata": {
        "id": "vFehxCyR1QC_",
        "colab_type": "code",
        "colab": {}
      },
      "cell_type": "code",
      "source": [
        "test_df = pd.read_csv(src+'metadata_test.csv')\n",
        "idx_list = test_df['signal_id'].tolist()\n",
        "\n"
      ],
      "execution_count": 0,
      "outputs": []
    },
    {
      "metadata": {
        "id": "uIp6HhR51lLv",
        "colab_type": "code",
        "outputId": "4a634afd-3bbd-4f70-947a-ba833ba4018b",
        "colab": {
          "base_uri": "https://localhost:8080/",
          "height": 105
        }
      },
      "cell_type": "code",
      "source": [
        "test_list = os.listdir(src_test)\n",
        "test_list[-5:]"
      ],
      "execution_count": 0,
      "outputs": [
        {
          "output_type": "execute_result",
          "data": {
            "text/plain": [
              "['signal_img_29044.png',\n",
              " 'signal_img_29045.png',\n",
              " 'signal_img_29046.png',\n",
              " 'signal_img_29047.png',\n",
              " 'signal_img_29048.png']"
            ]
          },
          "metadata": {
            "tags": []
          },
          "execution_count": 8
        }
      ]
    },
    {
      "metadata": {
        "id": "NkbSlx2L2jTm",
        "colab_type": "code",
        "outputId": "31b4996f-28f4-445a-f158-89013e751935",
        "colab": {
          "base_uri": "https://localhost:8080/",
          "height": 34
        }
      },
      "cell_type": "code",
      "source": [
        "idx_list[-5:]"
      ],
      "execution_count": 0,
      "outputs": [
        {
          "output_type": "execute_result",
          "data": {
            "text/plain": [
              "[29044, 29045, 29046, 29047, 29048]"
            ]
          },
          "metadata": {
            "tags": []
          },
          "execution_count": 11
        }
      ]
    },
    {
      "metadata": {
        "id": "3CcpK6qg3D_d",
        "colab_type": "code",
        "colab": {}
      },
      "cell_type": "code",
      "source": [
        ""
      ],
      "execution_count": 0,
      "outputs": []
    }
  ]
}